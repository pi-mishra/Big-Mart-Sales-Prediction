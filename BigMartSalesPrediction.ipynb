{
 "cells": [
  {
   "cell_type": "code",
   "execution_count": 1,
   "id": "fab3361a",
   "metadata": {
    "_cell_guid": "b1076dfc-b9ad-4769-8c92-a6c4dae69d19",
    "_uuid": "8f2839f25d086af736a60e9eeb907d3b93b6e0e5",
    "execution": {
     "iopub.execute_input": "2024-11-24T17:47:51.770680Z",
     "iopub.status.busy": "2024-11-24T17:47:51.770311Z",
     "iopub.status.idle": "2024-11-24T17:47:54.231559Z",
     "shell.execute_reply": "2024-11-24T17:47:54.230366Z"
    },
    "papermill": {
     "duration": 2.473812,
     "end_time": "2024-11-24T17:47:54.233777",
     "exception": false,
     "start_time": "2024-11-24T17:47:51.759965",
     "status": "completed"
    },
    "tags": []
   },
   "outputs": [
    {
     "name": "stdout",
     "output_type": "stream",
     "text": [
      "/kaggle/input/big-mart-sales/Test-Set.csv\n",
      "/kaggle/input/big-mart-sales/Train-Set.csv\n"
     ]
    }
   ],
   "source": [
    "#importing packages\n",
    "\n",
    "import numpy as np # linear algebra\n",
    "import pandas as pd # data processing, CSV file I/O (e.g. pd.read_csv)\n",
    "import matplotlib.pyplot as plt\n",
    "import seaborn as sns\n",
    "from scipy.stats import skew\n",
    "\n",
    "import warnings\n",
    "warnings.filterwarnings(\"ignore\")\n",
    "\n",
    "import os\n",
    "for dirname, _, filenames in os.walk('/kaggle/input'):\n",
    "    for filename in filenames:\n",
    "        print(os.path.join(dirname, filename))"
   ]
  },
  {
   "cell_type": "code",
   "execution_count": 2,
   "id": "c374fcf4",
   "metadata": {
    "execution": {
     "iopub.execute_input": "2024-11-24T17:47:54.252510Z",
     "iopub.status.busy": "2024-11-24T17:47:54.252036Z",
     "iopub.status.idle": "2024-11-24T17:47:54.300960Z",
     "shell.execute_reply": "2024-11-24T17:47:54.300037Z"
    },
    "papermill": {
     "duration": 0.061421,
     "end_time": "2024-11-24T17:47:54.303375",
     "exception": false,
     "start_time": "2024-11-24T17:47:54.241954",
     "status": "completed"
    },
    "tags": []
   },
   "outputs": [],
   "source": [
    "df = pd.read_csv(\"/kaggle/input/big-mart-sales/Train-Set.csv\")"
   ]
  },
  {
   "cell_type": "markdown",
   "id": "c89da15b",
   "metadata": {
    "papermill": {
     "duration": 0.00744,
     "end_time": "2024-11-24T17:47:54.318933",
     "exception": false,
     "start_time": "2024-11-24T17:47:54.311493",
     "status": "completed"
    },
    "tags": []
   },
   "source": [
    "## Getting the overview"
   ]
  },
  {
   "cell_type": "code",
   "execution_count": 3,
   "id": "57250a85",
   "metadata": {
    "execution": {
     "iopub.execute_input": "2024-11-24T17:47:54.336727Z",
     "iopub.status.busy": "2024-11-24T17:47:54.336379Z",
     "iopub.status.idle": "2024-11-24T17:47:54.367855Z",
     "shell.execute_reply": "2024-11-24T17:47:54.366793Z"
    },
    "papermill": {
     "duration": 0.04309,
     "end_time": "2024-11-24T17:47:54.369970",
     "exception": false,
     "start_time": "2024-11-24T17:47:54.326880",
     "status": "completed"
    },
    "tags": []
   },
   "outputs": [
    {
     "data": {
      "text/html": [
       "<div>\n",
       "<style scoped>\n",
       "    .dataframe tbody tr th:only-of-type {\n",
       "        vertical-align: middle;\n",
       "    }\n",
       "\n",
       "    .dataframe tbody tr th {\n",
       "        vertical-align: top;\n",
       "    }\n",
       "\n",
       "    .dataframe thead th {\n",
       "        text-align: right;\n",
       "    }\n",
       "</style>\n",
       "<table border=\"1\" class=\"dataframe\">\n",
       "  <thead>\n",
       "    <tr style=\"text-align: right;\">\n",
       "      <th></th>\n",
       "      <th>ProductID</th>\n",
       "      <th>Weight</th>\n",
       "      <th>FatContent</th>\n",
       "      <th>ProductVisibility</th>\n",
       "      <th>ProductType</th>\n",
       "      <th>MRP</th>\n",
       "      <th>OutletID</th>\n",
       "      <th>EstablishmentYear</th>\n",
       "      <th>OutletSize</th>\n",
       "      <th>LocationType</th>\n",
       "      <th>OutletType</th>\n",
       "      <th>OutletSales</th>\n",
       "    </tr>\n",
       "  </thead>\n",
       "  <tbody>\n",
       "    <tr>\n",
       "      <th>0</th>\n",
       "      <td>FDA15</td>\n",
       "      <td>9.30</td>\n",
       "      <td>Low Fat</td>\n",
       "      <td>0.016047</td>\n",
       "      <td>Dairy</td>\n",
       "      <td>249.8092</td>\n",
       "      <td>OUT049</td>\n",
       "      <td>1999</td>\n",
       "      <td>Medium</td>\n",
       "      <td>Tier 1</td>\n",
       "      <td>Supermarket Type1</td>\n",
       "      <td>3735.1380</td>\n",
       "    </tr>\n",
       "    <tr>\n",
       "      <th>1</th>\n",
       "      <td>DRC01</td>\n",
       "      <td>5.92</td>\n",
       "      <td>Regular</td>\n",
       "      <td>0.019278</td>\n",
       "      <td>Soft Drinks</td>\n",
       "      <td>48.2692</td>\n",
       "      <td>OUT018</td>\n",
       "      <td>2009</td>\n",
       "      <td>Medium</td>\n",
       "      <td>Tier 3</td>\n",
       "      <td>Supermarket Type2</td>\n",
       "      <td>443.4228</td>\n",
       "    </tr>\n",
       "    <tr>\n",
       "      <th>2</th>\n",
       "      <td>FDN15</td>\n",
       "      <td>17.50</td>\n",
       "      <td>Low Fat</td>\n",
       "      <td>0.016760</td>\n",
       "      <td>Meat</td>\n",
       "      <td>141.6180</td>\n",
       "      <td>OUT049</td>\n",
       "      <td>1999</td>\n",
       "      <td>Medium</td>\n",
       "      <td>Tier 1</td>\n",
       "      <td>Supermarket Type1</td>\n",
       "      <td>2097.2700</td>\n",
       "    </tr>\n",
       "    <tr>\n",
       "      <th>3</th>\n",
       "      <td>FDX07</td>\n",
       "      <td>19.20</td>\n",
       "      <td>Regular</td>\n",
       "      <td>0.000000</td>\n",
       "      <td>Fruits and Vegetables</td>\n",
       "      <td>182.0950</td>\n",
       "      <td>OUT010</td>\n",
       "      <td>1998</td>\n",
       "      <td>NaN</td>\n",
       "      <td>Tier 3</td>\n",
       "      <td>Grocery Store</td>\n",
       "      <td>732.3800</td>\n",
       "    </tr>\n",
       "    <tr>\n",
       "      <th>4</th>\n",
       "      <td>NCD19</td>\n",
       "      <td>8.93</td>\n",
       "      <td>Low Fat</td>\n",
       "      <td>0.000000</td>\n",
       "      <td>Household</td>\n",
       "      <td>53.8614</td>\n",
       "      <td>OUT013</td>\n",
       "      <td>1987</td>\n",
       "      <td>High</td>\n",
       "      <td>Tier 3</td>\n",
       "      <td>Supermarket Type1</td>\n",
       "      <td>994.7052</td>\n",
       "    </tr>\n",
       "  </tbody>\n",
       "</table>\n",
       "</div>"
      ],
      "text/plain": [
       "  ProductID  Weight FatContent  ProductVisibility            ProductType  \\\n",
       "0     FDA15    9.30    Low Fat           0.016047                  Dairy   \n",
       "1     DRC01    5.92    Regular           0.019278            Soft Drinks   \n",
       "2     FDN15   17.50    Low Fat           0.016760                   Meat   \n",
       "3     FDX07   19.20    Regular           0.000000  Fruits and Vegetables   \n",
       "4     NCD19    8.93    Low Fat           0.000000              Household   \n",
       "\n",
       "        MRP OutletID  EstablishmentYear OutletSize LocationType  \\\n",
       "0  249.8092   OUT049               1999     Medium       Tier 1   \n",
       "1   48.2692   OUT018               2009     Medium       Tier 3   \n",
       "2  141.6180   OUT049               1999     Medium       Tier 1   \n",
       "3  182.0950   OUT010               1998        NaN       Tier 3   \n",
       "4   53.8614   OUT013               1987       High       Tier 3   \n",
       "\n",
       "          OutletType  OutletSales  \n",
       "0  Supermarket Type1    3735.1380  \n",
       "1  Supermarket Type2     443.4228  \n",
       "2  Supermarket Type1    2097.2700  \n",
       "3      Grocery Store     732.3800  \n",
       "4  Supermarket Type1     994.7052  "
      ]
     },
     "execution_count": 3,
     "metadata": {},
     "output_type": "execute_result"
    }
   ],
   "source": [
    "# getting the first 5 rows\n",
    "\n",
    "df.head()"
   ]
  },
  {
   "cell_type": "code",
   "execution_count": 4,
   "id": "cc68b2c0",
   "metadata": {
    "execution": {
     "iopub.execute_input": "2024-11-24T17:47:54.387878Z",
     "iopub.status.busy": "2024-11-24T17:47:54.387146Z",
     "iopub.status.idle": "2024-11-24T17:47:54.392994Z",
     "shell.execute_reply": "2024-11-24T17:47:54.392068Z"
    },
    "papermill": {
     "duration": 0.016847,
     "end_time": "2024-11-24T17:47:54.394849",
     "exception": false,
     "start_time": "2024-11-24T17:47:54.378002",
     "status": "completed"
    },
    "tags": []
   },
   "outputs": [
    {
     "data": {
      "text/plain": [
       "(8523, 12)"
      ]
     },
     "execution_count": 4,
     "metadata": {},
     "output_type": "execute_result"
    }
   ],
   "source": [
    "# shape of the data\n",
    "\n",
    "df.shape"
   ]
  },
  {
   "cell_type": "code",
   "execution_count": 5,
   "id": "d0416a9b",
   "metadata": {
    "execution": {
     "iopub.execute_input": "2024-11-24T17:47:54.412308Z",
     "iopub.status.busy": "2024-11-24T17:47:54.411950Z",
     "iopub.status.idle": "2024-11-24T17:47:54.439661Z",
     "shell.execute_reply": "2024-11-24T17:47:54.438364Z"
    },
    "papermill": {
     "duration": 0.038852,
     "end_time": "2024-11-24T17:47:54.441825",
     "exception": false,
     "start_time": "2024-11-24T17:47:54.402973",
     "status": "completed"
    },
    "tags": []
   },
   "outputs": [
    {
     "name": "stdout",
     "output_type": "stream",
     "text": [
      "<class 'pandas.core.frame.DataFrame'>\n",
      "RangeIndex: 8523 entries, 0 to 8522\n",
      "Data columns (total 12 columns):\n",
      " #   Column             Non-Null Count  Dtype  \n",
      "---  ------             --------------  -----  \n",
      " 0   ProductID          8523 non-null   object \n",
      " 1   Weight             7060 non-null   float64\n",
      " 2   FatContent         8523 non-null   object \n",
      " 3   ProductVisibility  8523 non-null   float64\n",
      " 4   ProductType        8523 non-null   object \n",
      " 5   MRP                8523 non-null   float64\n",
      " 6   OutletID           8523 non-null   object \n",
      " 7   EstablishmentYear  8523 non-null   int64  \n",
      " 8   OutletSize         6113 non-null   object \n",
      " 9   LocationType       8523 non-null   object \n",
      " 10  OutletType         8523 non-null   object \n",
      " 11  OutletSales        8523 non-null   float64\n",
      "dtypes: float64(4), int64(1), object(7)\n",
      "memory usage: 799.2+ KB\n"
     ]
    }
   ],
   "source": [
    "# getting the overview \n",
    "\n",
    "df.info()"
   ]
  },
  {
   "cell_type": "code",
   "execution_count": 6,
   "id": "afd3cca5",
   "metadata": {
    "execution": {
     "iopub.execute_input": "2024-11-24T17:47:54.459634Z",
     "iopub.status.busy": "2024-11-24T17:47:54.459283Z",
     "iopub.status.idle": "2024-11-24T17:47:54.485497Z",
     "shell.execute_reply": "2024-11-24T17:47:54.484413Z"
    },
    "papermill": {
     "duration": 0.037475,
     "end_time": "2024-11-24T17:47:54.487484",
     "exception": false,
     "start_time": "2024-11-24T17:47:54.450009",
     "status": "completed"
    },
    "tags": []
   },
   "outputs": [
    {
     "data": {
      "text/html": [
       "<div>\n",
       "<style scoped>\n",
       "    .dataframe tbody tr th:only-of-type {\n",
       "        vertical-align: middle;\n",
       "    }\n",
       "\n",
       "    .dataframe tbody tr th {\n",
       "        vertical-align: top;\n",
       "    }\n",
       "\n",
       "    .dataframe thead th {\n",
       "        text-align: right;\n",
       "    }\n",
       "</style>\n",
       "<table border=\"1\" class=\"dataframe\">\n",
       "  <thead>\n",
       "    <tr style=\"text-align: right;\">\n",
       "      <th></th>\n",
       "      <th>Weight</th>\n",
       "      <th>ProductVisibility</th>\n",
       "      <th>MRP</th>\n",
       "      <th>EstablishmentYear</th>\n",
       "      <th>OutletSales</th>\n",
       "    </tr>\n",
       "  </thead>\n",
       "  <tbody>\n",
       "    <tr>\n",
       "      <th>count</th>\n",
       "      <td>7060.000000</td>\n",
       "      <td>8523.000000</td>\n",
       "      <td>8523.000000</td>\n",
       "      <td>8523.000000</td>\n",
       "      <td>8523.000000</td>\n",
       "    </tr>\n",
       "    <tr>\n",
       "      <th>mean</th>\n",
       "      <td>12.857645</td>\n",
       "      <td>0.066132</td>\n",
       "      <td>140.992782</td>\n",
       "      <td>1997.831867</td>\n",
       "      <td>2181.288914</td>\n",
       "    </tr>\n",
       "    <tr>\n",
       "      <th>std</th>\n",
       "      <td>4.643456</td>\n",
       "      <td>0.051598</td>\n",
       "      <td>62.275067</td>\n",
       "      <td>8.371760</td>\n",
       "      <td>1706.499616</td>\n",
       "    </tr>\n",
       "    <tr>\n",
       "      <th>min</th>\n",
       "      <td>4.555000</td>\n",
       "      <td>0.000000</td>\n",
       "      <td>31.290000</td>\n",
       "      <td>1985.000000</td>\n",
       "      <td>33.290000</td>\n",
       "    </tr>\n",
       "    <tr>\n",
       "      <th>25%</th>\n",
       "      <td>8.773750</td>\n",
       "      <td>0.026989</td>\n",
       "      <td>93.826500</td>\n",
       "      <td>1987.000000</td>\n",
       "      <td>834.247400</td>\n",
       "    </tr>\n",
       "    <tr>\n",
       "      <th>50%</th>\n",
       "      <td>12.600000</td>\n",
       "      <td>0.053931</td>\n",
       "      <td>143.012800</td>\n",
       "      <td>1999.000000</td>\n",
       "      <td>1794.331000</td>\n",
       "    </tr>\n",
       "    <tr>\n",
       "      <th>75%</th>\n",
       "      <td>16.850000</td>\n",
       "      <td>0.094585</td>\n",
       "      <td>185.643700</td>\n",
       "      <td>2004.000000</td>\n",
       "      <td>3101.296400</td>\n",
       "    </tr>\n",
       "    <tr>\n",
       "      <th>max</th>\n",
       "      <td>21.350000</td>\n",
       "      <td>0.328391</td>\n",
       "      <td>266.888400</td>\n",
       "      <td>2009.000000</td>\n",
       "      <td>13086.964800</td>\n",
       "    </tr>\n",
       "  </tbody>\n",
       "</table>\n",
       "</div>"
      ],
      "text/plain": [
       "            Weight  ProductVisibility          MRP  EstablishmentYear  \\\n",
       "count  7060.000000        8523.000000  8523.000000        8523.000000   \n",
       "mean     12.857645           0.066132   140.992782        1997.831867   \n",
       "std       4.643456           0.051598    62.275067           8.371760   \n",
       "min       4.555000           0.000000    31.290000        1985.000000   \n",
       "25%       8.773750           0.026989    93.826500        1987.000000   \n",
       "50%      12.600000           0.053931   143.012800        1999.000000   \n",
       "75%      16.850000           0.094585   185.643700        2004.000000   \n",
       "max      21.350000           0.328391   266.888400        2009.000000   \n",
       "\n",
       "        OutletSales  \n",
       "count   8523.000000  \n",
       "mean    2181.288914  \n",
       "std     1706.499616  \n",
       "min       33.290000  \n",
       "25%      834.247400  \n",
       "50%     1794.331000  \n",
       "75%     3101.296400  \n",
       "max    13086.964800  "
      ]
     },
     "execution_count": 6,
     "metadata": {},
     "output_type": "execute_result"
    }
   ],
   "source": [
    "df.describe()"
   ]
  },
  {
   "cell_type": "code",
   "execution_count": 7,
   "id": "d7e529e6",
   "metadata": {
    "execution": {
     "iopub.execute_input": "2024-11-24T17:47:54.505873Z",
     "iopub.status.busy": "2024-11-24T17:47:54.505527Z",
     "iopub.status.idle": "2024-11-24T17:47:54.512953Z",
     "shell.execute_reply": "2024-11-24T17:47:54.511970Z"
    },
    "papermill": {
     "duration": 0.019039,
     "end_time": "2024-11-24T17:47:54.514930",
     "exception": false,
     "start_time": "2024-11-24T17:47:54.495891",
     "status": "completed"
    },
    "tags": []
   },
   "outputs": [
    {
     "name": "stdout",
     "output_type": "stream",
     "text": [
      "Categorical Columns: ['ProductID', 'FatContent', 'ProductType', 'OutletID', 'OutletSize', 'LocationType', 'OutletType']\n",
      "Numerical Columns: ['Weight', 'ProductVisibility', 'MRP', 'EstablishmentYear', 'OutletSales']\n"
     ]
    }
   ],
   "source": [
    "# Get categorical columns\n",
    "categorical_columns = df.select_dtypes(include=['object', 'category']).columns.tolist()\n",
    "\n",
    "# Get numerical columns\n",
    "numerical_columns = df.select_dtypes(include=['int64', 'float64']).columns.tolist()\n",
    "\n",
    "print(\"Categorical Columns:\", categorical_columns)\n",
    "print(\"Numerical Columns:\", numerical_columns)"
   ]
  },
  {
   "cell_type": "code",
   "execution_count": 8,
   "id": "27fd4107",
   "metadata": {
    "execution": {
     "iopub.execute_input": "2024-11-24T17:47:54.533335Z",
     "iopub.status.busy": "2024-11-24T17:47:54.533002Z",
     "iopub.status.idle": "2024-11-24T17:47:54.546070Z",
     "shell.execute_reply": "2024-11-24T17:47:54.545103Z"
    },
    "papermill": {
     "duration": 0.02469,
     "end_time": "2024-11-24T17:47:54.548146",
     "exception": false,
     "start_time": "2024-11-24T17:47:54.523456",
     "status": "completed"
    },
    "tags": []
   },
   "outputs": [
    {
     "data": {
      "text/plain": [
       "0"
      ]
     },
     "execution_count": 8,
     "metadata": {},
     "output_type": "execute_result"
    }
   ],
   "source": [
    "# checking duplicate values\n",
    "\n",
    "df.duplicated().sum()"
   ]
  },
  {
   "cell_type": "code",
   "execution_count": 9,
   "id": "8ea81975",
   "metadata": {
    "execution": {
     "iopub.execute_input": "2024-11-24T17:47:54.566945Z",
     "iopub.status.busy": "2024-11-24T17:47:54.566172Z",
     "iopub.status.idle": "2024-11-24T17:47:54.578001Z",
     "shell.execute_reply": "2024-11-24T17:47:54.576851Z"
    },
    "papermill": {
     "duration": 0.023253,
     "end_time": "2024-11-24T17:47:54.579895",
     "exception": false,
     "start_time": "2024-11-24T17:47:54.556642",
     "status": "completed"
    },
    "tags": []
   },
   "outputs": [
    {
     "data": {
      "text/plain": [
       "ProductID             0.000000\n",
       "Weight               17.165317\n",
       "FatContent            0.000000\n",
       "ProductVisibility     0.000000\n",
       "ProductType           0.000000\n",
       "MRP                   0.000000\n",
       "OutletID              0.000000\n",
       "EstablishmentYear     0.000000\n",
       "OutletSize           28.276428\n",
       "LocationType          0.000000\n",
       "OutletType            0.000000\n",
       "OutletSales           0.000000\n",
       "dtype: float64"
      ]
     },
     "execution_count": 9,
     "metadata": {},
     "output_type": "execute_result"
    }
   ],
   "source": [
    "# getting the percentage of null data\n",
    "\n",
    "df.isnull().mean()*100"
   ]
  },
  {
   "cell_type": "markdown",
   "id": "96ae5570",
   "metadata": {
    "papermill": {
     "duration": 0.00832,
     "end_time": "2024-11-24T17:47:54.596987",
     "exception": false,
     "start_time": "2024-11-24T17:47:54.588667",
     "status": "completed"
    },
    "tags": []
   },
   "source": [
    "## Handeling the null values"
   ]
  },
  {
   "cell_type": "code",
   "execution_count": 10,
   "id": "4562037d",
   "metadata": {
    "execution": {
     "iopub.execute_input": "2024-11-24T17:47:54.615735Z",
     "iopub.status.busy": "2024-11-24T17:47:54.615413Z",
     "iopub.status.idle": "2024-11-24T17:47:54.622730Z",
     "shell.execute_reply": "2024-11-24T17:47:54.621808Z"
    },
    "papermill": {
     "duration": 0.019057,
     "end_time": "2024-11-24T17:47:54.624705",
     "exception": false,
     "start_time": "2024-11-24T17:47:54.605648",
     "status": "completed"
    },
    "tags": []
   },
   "outputs": [
    {
     "data": {
      "text/plain": [
       "12.857645184135976"
      ]
     },
     "execution_count": 10,
     "metadata": {},
     "output_type": "execute_result"
    }
   ],
   "source": [
    "# weight is numerical so we can checking its mean\n",
    "\n",
    "df['Weight'].mean()"
   ]
  },
  {
   "cell_type": "code",
   "execution_count": 11,
   "id": "bb7d8907",
   "metadata": {
    "execution": {
     "iopub.execute_input": "2024-11-24T17:47:54.643573Z",
     "iopub.status.busy": "2024-11-24T17:47:54.643239Z",
     "iopub.status.idle": "2024-11-24T17:47:54.649227Z",
     "shell.execute_reply": "2024-11-24T17:47:54.648440Z"
    },
    "papermill": {
     "duration": 0.01765,
     "end_time": "2024-11-24T17:47:54.651218",
     "exception": false,
     "start_time": "2024-11-24T17:47:54.633568",
     "status": "completed"
    },
    "tags": []
   },
   "outputs": [],
   "source": [
    "# filling the missing weight column with mean value\n",
    "\n",
    "df['Weight'] = df['Weight'].fillna(df['Weight'].mean())"
   ]
  },
  {
   "cell_type": "code",
   "execution_count": 12,
   "id": "6fae154d",
   "metadata": {
    "execution": {
     "iopub.execute_input": "2024-11-24T17:47:54.670079Z",
     "iopub.status.busy": "2024-11-24T17:47:54.669657Z",
     "iopub.status.idle": "2024-11-24T17:47:54.676693Z",
     "shell.execute_reply": "2024-11-24T17:47:54.675685Z"
    },
    "papermill": {
     "duration": 0.018616,
     "end_time": "2024-11-24T17:47:54.678640",
     "exception": false,
     "start_time": "2024-11-24T17:47:54.660024",
     "status": "completed"
    },
    "tags": []
   },
   "outputs": [
    {
     "data": {
      "text/plain": [
       "array(['Medium', nan, 'High', 'Small'], dtype=object)"
      ]
     },
     "execution_count": 12,
     "metadata": {},
     "output_type": "execute_result"
    }
   ],
   "source": [
    "# getting the outlet size categories\n",
    "\n",
    "df[\"OutletSize\"].unique()"
   ]
  },
  {
   "cell_type": "code",
   "execution_count": 13,
   "id": "9d5e717f",
   "metadata": {
    "execution": {
     "iopub.execute_input": "2024-11-24T17:47:54.697583Z",
     "iopub.status.busy": "2024-11-24T17:47:54.697221Z",
     "iopub.status.idle": "2024-11-24T17:47:54.705136Z",
     "shell.execute_reply": "2024-11-24T17:47:54.704141Z"
    },
    "papermill": {
     "duration": 0.019643,
     "end_time": "2024-11-24T17:47:54.707112",
     "exception": false,
     "start_time": "2024-11-24T17:47:54.687469",
     "status": "completed"
    },
    "tags": []
   },
   "outputs": [
    {
     "data": {
      "text/plain": [
       "0    Medium\n",
       "Name: OutletSize, dtype: object"
      ]
     },
     "execution_count": 13,
     "metadata": {},
     "output_type": "execute_result"
    }
   ],
   "source": [
    "# as the outlet size is category , getting the mode of the outlet size\n",
    "\n",
    "df['OutletSize'].mode()"
   ]
  },
  {
   "cell_type": "code",
   "execution_count": 14,
   "id": "57b2ec55",
   "metadata": {
    "execution": {
     "iopub.execute_input": "2024-11-24T17:47:54.727492Z",
     "iopub.status.busy": "2024-11-24T17:47:54.727116Z",
     "iopub.status.idle": "2024-11-24T17:47:54.734486Z",
     "shell.execute_reply": "2024-11-24T17:47:54.733562Z"
    },
    "papermill": {
     "duration": 0.019339,
     "end_time": "2024-11-24T17:47:54.736512",
     "exception": false,
     "start_time": "2024-11-24T17:47:54.717173",
     "status": "completed"
    },
    "tags": []
   },
   "outputs": [],
   "source": [
    "# filling the missing outletsize column with mode value\n",
    "\n",
    "df['OutletSize'] = df['OutletSize'].fillna(df['OutletSize'].mode()[0])"
   ]
  },
  {
   "cell_type": "code",
   "execution_count": 15,
   "id": "4f805ac0",
   "metadata": {
    "execution": {
     "iopub.execute_input": "2024-11-24T17:47:54.755626Z",
     "iopub.status.busy": "2024-11-24T17:47:54.755241Z",
     "iopub.status.idle": "2024-11-24T17:47:54.767777Z",
     "shell.execute_reply": "2024-11-24T17:47:54.766823Z"
    },
    "papermill": {
     "duration": 0.02447,
     "end_time": "2024-11-24T17:47:54.769784",
     "exception": false,
     "start_time": "2024-11-24T17:47:54.745314",
     "status": "completed"
    },
    "tags": []
   },
   "outputs": [
    {
     "data": {
      "text/plain": [
       "ProductID            0.0\n",
       "Weight               0.0\n",
       "FatContent           0.0\n",
       "ProductVisibility    0.0\n",
       "ProductType          0.0\n",
       "MRP                  0.0\n",
       "OutletID             0.0\n",
       "EstablishmentYear    0.0\n",
       "OutletSize           0.0\n",
       "LocationType         0.0\n",
       "OutletType           0.0\n",
       "OutletSales          0.0\n",
       "dtype: float64"
      ]
     },
     "execution_count": 15,
     "metadata": {},
     "output_type": "execute_result"
    }
   ],
   "source": [
    "# checking if the nulls are updated\n",
    "\n",
    "df.isnull().mean()*100"
   ]
  },
  {
   "cell_type": "markdown",
   "id": "8b92ad81",
   "metadata": {
    "papermill": {
     "duration": 0.008763,
     "end_time": "2024-11-24T17:47:54.787707",
     "exception": false,
     "start_time": "2024-11-24T17:47:54.778944",
     "status": "completed"
    },
    "tags": []
   },
   "source": [
    "## Handeling the outliers"
   ]
  },
  {
   "cell_type": "code",
   "execution_count": 16,
   "id": "dbf709be",
   "metadata": {
    "execution": {
     "iopub.execute_input": "2024-11-24T17:47:54.807318Z",
     "iopub.status.busy": "2024-11-24T17:47:54.806522Z",
     "iopub.status.idle": "2024-11-24T17:47:55.441709Z",
     "shell.execute_reply": "2024-11-24T17:47:55.440637Z"
    },
    "papermill": {
     "duration": 0.647145,
     "end_time": "2024-11-24T17:47:55.443768",
     "exception": false,
     "start_time": "2024-11-24T17:47:54.796623",
     "status": "completed"
    },
    "tags": []
   },
   "outputs": [
    {
     "data": {
      "image/png": "[encoded data removed]",
      "text/plain": [
       "<Figure size 1200x800 with 4 Axes>"
      ]
     },
     "metadata": {},
     "output_type": "display_data"
    }
   ],
   "source": [
    "# checking for outliers\n",
    "\n",
    "# List of numeric columns to visualize\n",
    "numeric_cols = ['Weight', 'ProductVisibility', 'MRP', 'OutletSales']\n",
    "\n",
    "# Plotting boxplots for each numeric column\n",
    "plt.figure(figsize=(12, 8))\n",
    "for i, column in enumerate(numeric_cols, 1):\n",
    "    plt.subplot(2, 2, i)  # Create a 2x2 subplot grid\n",
    "    sns.boxplot(x=df[column])\n",
    "    plt.title(f'Boxplot of {column}')\n",
    "    plt.xlabel(column)\n",
    "plt.tight_layout()\n",
    "plt.show()"
   ]
  },
  {
   "cell_type": "markdown",
   "id": "de6d0c44",
   "metadata": {
    "papermill": {
     "duration": 0.009238,
     "end_time": "2024-11-24T17:47:55.462695",
     "exception": false,
     "start_time": "2024-11-24T17:47:55.453457",
     "status": "completed"
    },
    "tags": []
   },
   "source": [
    "### OutletSales outliers "
   ]
  },
  {
   "cell_type": "code",
   "execution_count": 17,
   "id": "38c60b66",
   "metadata": {
    "execution": {
     "iopub.execute_input": "2024-11-24T17:47:55.482949Z",
     "iopub.status.busy": "2024-11-24T17:47:55.482567Z",
     "iopub.status.idle": "2024-11-24T17:47:55.489990Z",
     "shell.execute_reply": "2024-11-24T17:47:55.489024Z"
    },
    "papermill": {
     "duration": 0.019821,
     "end_time": "2024-11-24T17:47:55.491891",
     "exception": false,
     "start_time": "2024-11-24T17:47:55.472070",
     "status": "completed"
    },
    "tags": []
   },
   "outputs": [
    {
     "data": {
      "text/plain": [
       "1.1775306028542796"
      ]
     },
     "execution_count": 17,
     "metadata": {},
     "output_type": "execute_result"
    }
   ],
   "source": [
    "df['OutletSales'].skew()"
   ]
  },
  {
   "cell_type": "code",
   "execution_count": 18,
   "id": "f9671a92",
   "metadata": {
    "execution": {
     "iopub.execute_input": "2024-11-24T17:47:55.513300Z",
     "iopub.status.busy": "2024-11-24T17:47:55.512931Z",
     "iopub.status.idle": "2024-11-24T17:47:55.946337Z",
     "shell.execute_reply": "2024-11-24T17:47:55.945355Z"
    },
    "papermill": {
     "duration": 0.446488,
     "end_time": "2024-11-24T17:47:55.948613",
     "exception": false,
     "start_time": "2024-11-24T17:47:55.502125",
     "status": "completed"
    },
    "tags": []
   },
   "outputs": [
    {
     "data": {
      "image/png": "[encoded data removed]",
      "text/plain": [
       "<Figure size 640x480 with 1 Axes>"
      ]
     },
     "metadata": {},
     "output_type": "display_data"
    }
   ],
   "source": [
    "# Histogram and density plot\n",
    "sns.histplot(df['OutletSales'], kde=True)\n",
    "plt.title('Histogram with Density Plot')\n",
    "plt.show()"
   ]
  },
  {
   "cell_type": "code",
   "execution_count": 19,
   "id": "df2e526f",
   "metadata": {
    "execution": {
     "iopub.execute_input": "2024-11-24T17:47:55.971085Z",
     "iopub.status.busy": "2024-11-24T17:47:55.970175Z",
     "iopub.status.idle": "2024-11-24T17:47:55.978855Z",
     "shell.execute_reply": "2024-11-24T17:47:55.977722Z"
    },
    "papermill": {
     "duration": 0.021885,
     "end_time": "2024-11-24T17:47:55.980816",
     "exception": false,
     "start_time": "2024-11-24T17:47:55.958931",
     "status": "completed"
    },
    "tags": []
   },
   "outputs": [
    {
     "name": "stdout",
     "output_type": "stream",
     "text": [
      "Q1: 834.2474, Q3: 3101.2964, IQR: 2267.049\n"
     ]
    }
   ],
   "source": [
    "# as the data is right skewed we are going to use iqr method to remove outliers\n",
    "\n",
    "outletsales_Q1 = df['OutletSales'].quantile(0.25)  # 1st Quartile (25th percentile)\n",
    "outletsales_Q3 = df['OutletSales'].quantile(0.75)  # 3rd Quartile (75th percentile)\n",
    "outletsales_IQR = outletsales_Q3 - outletsales_Q1                     # Interquartile Range\n",
    "\n",
    "print(f\"Q1: {outletsales_Q1}, Q3: {outletsales_Q3}, IQR: {outletsales_IQR}\")"
   ]
  },
  {
   "cell_type": "code",
   "execution_count": 20,
   "id": "2b235adc",
   "metadata": {
    "execution": {
     "iopub.execute_input": "2024-11-24T17:47:56.002867Z",
     "iopub.status.busy": "2024-11-24T17:47:56.002454Z",
     "iopub.status.idle": "2024-11-24T17:47:56.007731Z",
     "shell.execute_reply": "2024-11-24T17:47:56.006825Z"
    },
    "papermill": {
     "duration": 0.019246,
     "end_time": "2024-11-24T17:47:56.010349",
     "exception": false,
     "start_time": "2024-11-24T17:47:55.991103",
     "status": "completed"
    },
    "tags": []
   },
   "outputs": [
    {
     "name": "stdout",
     "output_type": "stream",
     "text": [
      "Upper limit = 6501.8699\n",
      "Lower limit = -2566.3261\n"
     ]
    }
   ],
   "source": [
    "outletsales_upper_limit = outletsales_Q3 + 1.5*outletsales_IQR \n",
    "outletsales_lower_limit = outletsales_Q1 - 1.5*outletsales_IQR\n",
    "\n",
    "print(f\"Upper limit = {outletsales_upper_limit}\")\n",
    "print(f\"Lower limit = {outletsales_lower_limit}\")"
   ]
  },
  {
   "cell_type": "code",
   "execution_count": 21,
   "id": "bc7b3c27",
   "metadata": {
    "execution": {
     "iopub.execute_input": "2024-11-24T17:47:56.032303Z",
     "iopub.status.busy": "2024-11-24T17:47:56.031959Z",
     "iopub.status.idle": "2024-11-24T17:47:56.052001Z",
     "shell.execute_reply": "2024-11-24T17:47:56.051057Z"
    },
    "papermill": {
     "duration": 0.033975,
     "end_time": "2024-11-24T17:47:56.054403",
     "exception": false,
     "start_time": "2024-11-24T17:47:56.020428",
     "status": "completed"
    },
    "tags": []
   },
   "outputs": [
    {
     "data": {
      "text/html": [
       "<div>\n",
       "<style scoped>\n",
       "    .dataframe tbody tr th:only-of-type {\n",
       "        vertical-align: middle;\n",
       "    }\n",
       "\n",
       "    .dataframe tbody tr th {\n",
       "        vertical-align: top;\n",
       "    }\n",
       "\n",
       "    .dataframe thead th {\n",
       "        text-align: right;\n",
       "    }\n",
       "</style>\n",
       "<table border=\"1\" class=\"dataframe\">\n",
       "  <thead>\n",
       "    <tr style=\"text-align: right;\">\n",
       "      <th></th>\n",
       "      <th>ProductID</th>\n",
       "      <th>Weight</th>\n",
       "      <th>FatContent</th>\n",
       "      <th>ProductVisibility</th>\n",
       "      <th>ProductType</th>\n",
       "      <th>MRP</th>\n",
       "      <th>OutletID</th>\n",
       "      <th>EstablishmentYear</th>\n",
       "      <th>OutletSize</th>\n",
       "      <th>LocationType</th>\n",
       "      <th>OutletType</th>\n",
       "      <th>OutletSales</th>\n",
       "    </tr>\n",
       "  </thead>\n",
       "  <tbody>\n",
       "    <tr>\n",
       "      <th>43</th>\n",
       "      <td>FDC02</td>\n",
       "      <td>21.350000</td>\n",
       "      <td>Low Fat</td>\n",
       "      <td>0.069103</td>\n",
       "      <td>Canned</td>\n",
       "      <td>259.9278</td>\n",
       "      <td>OUT018</td>\n",
       "      <td>2009</td>\n",
       "      <td>Medium</td>\n",
       "      <td>Tier 3</td>\n",
       "      <td>Supermarket Type2</td>\n",
       "      <td>6768.5228</td>\n",
       "    </tr>\n",
       "    <tr>\n",
       "      <th>130</th>\n",
       "      <td>FDY25</td>\n",
       "      <td>12.857645</td>\n",
       "      <td>Low Fat</td>\n",
       "      <td>0.033810</td>\n",
       "      <td>Canned</td>\n",
       "      <td>180.5976</td>\n",
       "      <td>OUT027</td>\n",
       "      <td>1985</td>\n",
       "      <td>Medium</td>\n",
       "      <td>Tier 3</td>\n",
       "      <td>Supermarket Type3</td>\n",
       "      <td>7968.2944</td>\n",
       "    </tr>\n",
       "    <tr>\n",
       "      <th>132</th>\n",
       "      <td>NCR53</td>\n",
       "      <td>12.857645</td>\n",
       "      <td>Low Fat</td>\n",
       "      <td>0.144338</td>\n",
       "      <td>Health and Hygiene</td>\n",
       "      <td>224.4404</td>\n",
       "      <td>OUT027</td>\n",
       "      <td>1985</td>\n",
       "      <td>Medium</td>\n",
       "      <td>Tier 3</td>\n",
       "      <td>Supermarket Type3</td>\n",
       "      <td>6976.2524</td>\n",
       "    </tr>\n",
       "    <tr>\n",
       "      <th>145</th>\n",
       "      <td>FDP16</td>\n",
       "      <td>18.600000</td>\n",
       "      <td>Low Fat</td>\n",
       "      <td>0.039356</td>\n",
       "      <td>Frozen Foods</td>\n",
       "      <td>246.3802</td>\n",
       "      <td>OUT049</td>\n",
       "      <td>1999</td>\n",
       "      <td>Medium</td>\n",
       "      <td>Tier 1</td>\n",
       "      <td>Supermarket Type1</td>\n",
       "      <td>7370.4060</td>\n",
       "    </tr>\n",
       "    <tr>\n",
       "      <th>203</th>\n",
       "      <td>FDI24</td>\n",
       "      <td>12.857645</td>\n",
       "      <td>Low Fat</td>\n",
       "      <td>0.078362</td>\n",
       "      <td>Baking Goods</td>\n",
       "      <td>177.9370</td>\n",
       "      <td>OUT027</td>\n",
       "      <td>1985</td>\n",
       "      <td>Medium</td>\n",
       "      <td>Tier 3</td>\n",
       "      <td>Supermarket Type3</td>\n",
       "      <td>6704.6060</td>\n",
       "    </tr>\n",
       "    <tr>\n",
       "      <th>...</th>\n",
       "      <td>...</td>\n",
       "      <td>...</td>\n",
       "      <td>...</td>\n",
       "      <td>...</td>\n",
       "      <td>...</td>\n",
       "      <td>...</td>\n",
       "      <td>...</td>\n",
       "      <td>...</td>\n",
       "      <td>...</td>\n",
       "      <td>...</td>\n",
       "      <td>...</td>\n",
       "      <td>...</td>\n",
       "    </tr>\n",
       "    <tr>\n",
       "      <th>8245</th>\n",
       "      <td>FDU55</td>\n",
       "      <td>16.200000</td>\n",
       "      <td>Low Fat</td>\n",
       "      <td>0.035967</td>\n",
       "      <td>Fruits and Vegetables</td>\n",
       "      <td>260.3278</td>\n",
       "      <td>OUT049</td>\n",
       "      <td>1999</td>\n",
       "      <td>Medium</td>\n",
       "      <td>Tier 1</td>\n",
       "      <td>Supermarket Type1</td>\n",
       "      <td>7549.5062</td>\n",
       "    </tr>\n",
       "    <tr>\n",
       "      <th>8329</th>\n",
       "      <td>NCQ06</td>\n",
       "      <td>12.857645</td>\n",
       "      <td>Low Fat</td>\n",
       "      <td>0.041622</td>\n",
       "      <td>Household</td>\n",
       "      <td>253.6014</td>\n",
       "      <td>OUT027</td>\n",
       "      <td>1985</td>\n",
       "      <td>Medium</td>\n",
       "      <td>Tier 3</td>\n",
       "      <td>Supermarket Type3</td>\n",
       "      <td>6630.0364</td>\n",
       "    </tr>\n",
       "    <tr>\n",
       "      <th>8350</th>\n",
       "      <td>NCE18</td>\n",
       "      <td>10.000000</td>\n",
       "      <td>Low Fat</td>\n",
       "      <td>0.021421</td>\n",
       "      <td>Household</td>\n",
       "      <td>248.3750</td>\n",
       "      <td>OUT035</td>\n",
       "      <td>2004</td>\n",
       "      <td>Small</td>\n",
       "      <td>Tier 2</td>\n",
       "      <td>Supermarket Type1</td>\n",
       "      <td>7240.5750</td>\n",
       "    </tr>\n",
       "    <tr>\n",
       "      <th>8447</th>\n",
       "      <td>FDS26</td>\n",
       "      <td>20.350000</td>\n",
       "      <td>Low Fat</td>\n",
       "      <td>0.089975</td>\n",
       "      <td>Dairy</td>\n",
       "      <td>261.6594</td>\n",
       "      <td>OUT017</td>\n",
       "      <td>2007</td>\n",
       "      <td>Medium</td>\n",
       "      <td>Tier 2</td>\n",
       "      <td>Supermarket Type1</td>\n",
       "      <td>7588.1226</td>\n",
       "    </tr>\n",
       "    <tr>\n",
       "      <th>8510</th>\n",
       "      <td>FDN58</td>\n",
       "      <td>13.800000</td>\n",
       "      <td>Regular</td>\n",
       "      <td>0.056862</td>\n",
       "      <td>Snack Foods</td>\n",
       "      <td>231.5984</td>\n",
       "      <td>OUT035</td>\n",
       "      <td>2004</td>\n",
       "      <td>Small</td>\n",
       "      <td>Tier 2</td>\n",
       "      <td>Supermarket Type1</td>\n",
       "      <td>7182.6504</td>\n",
       "    </tr>\n",
       "  </tbody>\n",
       "</table>\n",
       "<p>186 rows × 12 columns</p>\n",
       "</div>"
      ],
      "text/plain": [
       "     ProductID     Weight FatContent  ProductVisibility  \\\n",
       "43       FDC02  21.350000    Low Fat           0.069103   \n",
       "130      FDY25  12.857645    Low Fat           0.033810   \n",
       "132      NCR53  12.857645    Low Fat           0.144338   \n",
       "145      FDP16  18.600000    Low Fat           0.039356   \n",
       "203      FDI24  12.857645    Low Fat           0.078362   \n",
       "...        ...        ...        ...                ...   \n",
       "8245     FDU55  16.200000    Low Fat           0.035967   \n",
       "8329     NCQ06  12.857645    Low Fat           0.041622   \n",
       "8350     NCE18  10.000000    Low Fat           0.021421   \n",
       "8447     FDS26  20.350000    Low Fat           0.089975   \n",
       "8510     FDN58  13.800000    Regular           0.056862   \n",
       "\n",
       "                ProductType       MRP OutletID  EstablishmentYear OutletSize  \\\n",
       "43                   Canned  259.9278   OUT018               2009     Medium   \n",
       "130                  Canned  180.5976   OUT027               1985     Medium   \n",
       "132      Health and Hygiene  224.4404   OUT027               1985     Medium   \n",
       "145            Frozen Foods  246.3802   OUT049               1999     Medium   \n",
       "203            Baking Goods  177.9370   OUT027               1985     Medium   \n",
       "...                     ...       ...      ...                ...        ...   \n",
       "8245  Fruits and Vegetables  260.3278   OUT049               1999     Medium   \n",
       "8329              Household  253.6014   OUT027               1985     Medium   \n",
       "8350              Household  248.3750   OUT035               2004      Small   \n",
       "8447                  Dairy  261.6594   OUT017               2007     Medium   \n",
       "8510            Snack Foods  231.5984   OUT035               2004      Small   \n",
       "\n",
       "     LocationType         OutletType  OutletSales  \n",
       "43         Tier 3  Supermarket Type2    6768.5228  \n",
       "130        Tier 3  Supermarket Type3    7968.2944  \n",
       "132        Tier 3  Supermarket Type3    6976.2524  \n",
       "145        Tier 1  Supermarket Type1    7370.4060  \n",
       "203        Tier 3  Supermarket Type3    6704.6060  \n",
       "...           ...                ...          ...  \n",
       "8245       Tier 1  Supermarket Type1    7549.5062  \n",
       "8329       Tier 3  Supermarket Type3    6630.0364  \n",
       "8350       Tier 2  Supermarket Type1    7240.5750  \n",
       "8447       Tier 2  Supermarket Type1    7588.1226  \n",
       "8510       Tier 2  Supermarket Type1    7182.6504  \n",
       "\n",
       "[186 rows x 12 columns]"
      ]
     },
     "execution_count": 21,
     "metadata": {},
     "output_type": "execute_result"
    }
   ],
   "source": [
    "df[df[\"OutletSales\"]>outletsales_upper_limit]"
   ]
  },
  {
   "cell_type": "code",
   "execution_count": 22,
   "id": "5a501ac6",
   "metadata": {
    "execution": {
     "iopub.execute_input": "2024-11-24T17:47:56.077476Z",
     "iopub.status.busy": "2024-11-24T17:47:56.077136Z",
     "iopub.status.idle": "2024-11-24T17:47:56.088024Z",
     "shell.execute_reply": "2024-11-24T17:47:56.087024Z"
    },
    "papermill": {
     "duration": 0.024604,
     "end_time": "2024-11-24T17:47:56.089934",
     "exception": false,
     "start_time": "2024-11-24T17:47:56.065330",
     "status": "completed"
    },
    "tags": []
   },
   "outputs": [
    {
     "data": {
      "text/html": [
       "<div>\n",
       "<style scoped>\n",
       "    .dataframe tbody tr th:only-of-type {\n",
       "        vertical-align: middle;\n",
       "    }\n",
       "\n",
       "    .dataframe tbody tr th {\n",
       "        vertical-align: top;\n",
       "    }\n",
       "\n",
       "    .dataframe thead th {\n",
       "        text-align: right;\n",
       "    }\n",
       "</style>\n",
       "<table border=\"1\" class=\"dataframe\">\n",
       "  <thead>\n",
       "    <tr style=\"text-align: right;\">\n",
       "      <th></th>\n",
       "      <th>ProductID</th>\n",
       "      <th>Weight</th>\n",
       "      <th>FatContent</th>\n",
       "      <th>ProductVisibility</th>\n",
       "      <th>ProductType</th>\n",
       "      <th>MRP</th>\n",
       "      <th>OutletID</th>\n",
       "      <th>EstablishmentYear</th>\n",
       "      <th>OutletSize</th>\n",
       "      <th>LocationType</th>\n",
       "      <th>OutletType</th>\n",
       "      <th>OutletSales</th>\n",
       "    </tr>\n",
       "  </thead>\n",
       "  <tbody>\n",
       "  </tbody>\n",
       "</table>\n",
       "</div>"
      ],
      "text/plain": [
       "Empty DataFrame\n",
       "Columns: [ProductID, Weight, FatContent, ProductVisibility, ProductType, MRP, OutletID, EstablishmentYear, OutletSize, LocationType, OutletType, OutletSales]\n",
       "Index: []"
      ]
     },
     "execution_count": 22,
     "metadata": {},
     "output_type": "execute_result"
    }
   ],
   "source": [
    "df[df[\"OutletSales\"]<outletsales_lower_limit] #No data lower limit as the lower_limit value is in negative"
   ]
  },
  {
   "cell_type": "code",
   "execution_count": 23,
   "id": "401d950a",
   "metadata": {
    "execution": {
     "iopub.execute_input": "2024-11-24T17:47:56.113104Z",
     "iopub.status.busy": "2024-11-24T17:47:56.112714Z",
     "iopub.status.idle": "2024-11-24T17:47:56.118859Z",
     "shell.execute_reply": "2024-11-24T17:47:56.117881Z"
    },
    "papermill": {
     "duration": 0.019644,
     "end_time": "2024-11-24T17:47:56.120722",
     "exception": false,
     "start_time": "2024-11-24T17:47:56.101078",
     "status": "completed"
    },
    "tags": []
   },
   "outputs": [],
   "source": [
    "# as the dataset is less and sales data is meaningfull so we will use capping method\n",
    "\n",
    "df[\"OutletSales\"] = np.where(\n",
    "    df[\"OutletSales\"] > outletsales_upper_limit , outletsales_upper_limit ,\n",
    "    np.where(df[\"OutletSales\"]< outletsales_lower_limit , outletsales_lower_limit,df[\"OutletSales\"])\n",
    ")"
   ]
  },
  {
   "cell_type": "code",
   "execution_count": 24,
   "id": "722e8b8d",
   "metadata": {
    "execution": {
     "iopub.execute_input": "2024-11-24T17:47:56.144526Z",
     "iopub.status.busy": "2024-11-24T17:47:56.144154Z",
     "iopub.status.idle": "2024-11-24T17:47:56.276259Z",
     "shell.execute_reply": "2024-11-24T17:47:56.274790Z"
    },
    "papermill": {
     "duration": 0.148656,
     "end_time": "2024-11-24T17:47:56.280352",
     "exception": false,
     "start_time": "2024-11-24T17:47:56.131696",
     "status": "completed"
    },
    "tags": []
   },
   "outputs": [
    {
     "data": {
      "image/png": "[encoded data removed]",
      "text/plain": [
       "<Figure size 800x500 with 1 Axes>"
      ]
     },
     "metadata": {},
     "output_type": "display_data"
    }
   ],
   "source": [
    "# checking if outliers are removed\n",
    "\n",
    "plt.figure(figsize=(8, 5))\n",
    "sns.boxplot(x=df[\"OutletSales\"])\n",
    "plt.title(\"Boxplot of OutletSales\")\n",
    "plt.xlabel(\"OutletSales\")\n",
    "plt.grid(True)\n",
    "plt.show()"
   ]
  },
  {
   "cell_type": "markdown",
   "id": "4b12e55f",
   "metadata": {
    "papermill": {
     "duration": 0.011151,
     "end_time": "2024-11-24T17:47:56.317880",
     "exception": false,
     "start_time": "2024-11-24T17:47:56.306729",
     "status": "completed"
    },
    "tags": []
   },
   "source": [
    "### ProductVisibility outliers"
   ]
  },
  {
   "cell_type": "code",
   "execution_count": 25,
   "id": "c44c8764",
   "metadata": {
    "execution": {
     "iopub.execute_input": "2024-11-24T17:47:56.342514Z",
     "iopub.status.busy": "2024-11-24T17:47:56.341681Z",
     "iopub.status.idle": "2024-11-24T17:47:56.349517Z",
     "shell.execute_reply": "2024-11-24T17:47:56.348587Z"
    },
    "papermill": {
     "duration": 0.022185,
     "end_time": "2024-11-24T17:47:56.351436",
     "exception": false,
     "start_time": "2024-11-24T17:47:56.329251",
     "status": "completed"
    },
    "tags": []
   },
   "outputs": [
    {
     "data": {
      "text/plain": [
       "1.1670905496918396"
      ]
     },
     "execution_count": 25,
     "metadata": {},
     "output_type": "execute_result"
    }
   ],
   "source": [
    "df[\"ProductVisibility\"].skew()"
   ]
  },
  {
   "cell_type": "code",
   "execution_count": 26,
   "id": "ab863223",
   "metadata": {
    "execution": {
     "iopub.execute_input": "2024-11-24T17:47:56.375368Z",
     "iopub.status.busy": "2024-11-24T17:47:56.375037Z",
     "iopub.status.idle": "2024-11-24T17:47:56.713595Z",
     "shell.execute_reply": "2024-11-24T17:47:56.712546Z"
    },
    "papermill": {
     "duration": 0.353871,
     "end_time": "2024-11-24T17:47:56.716587",
     "exception": false,
     "start_time": "2024-11-24T17:47:56.362716",
     "status": "completed"
    },
    "tags": []
   },
   "outputs": [
    {
     "data": {
      "image/png": "[encoded data removed]",
      "text/plain": [
       "<Figure size 640x480 with 1 Axes>"
      ]
     },
     "metadata": {},
     "output_type": "display_data"
    }
   ],
   "source": [
    "# Histogram and density plot\n",
    "sns.histplot(df['ProductVisibility'], kde=True)\n",
    "plt.title('Histogram with Density Plot')\n",
    "plt.show()"
   ]
  },
  {
   "cell_type": "code",
   "execution_count": 27,
   "id": "1e36a619",
   "metadata": {
    "execution": {
     "iopub.execute_input": "2024-11-24T17:47:56.742513Z",
     "iopub.status.busy": "2024-11-24T17:47:56.741638Z",
     "iopub.status.idle": "2024-11-24T17:47:56.750418Z",
     "shell.execute_reply": "2024-11-24T17:47:56.749440Z"
    },
    "papermill": {
     "duration": 0.023794,
     "end_time": "2024-11-24T17:47:56.752570",
     "exception": false,
     "start_time": "2024-11-24T17:47:56.728776",
     "status": "completed"
    },
    "tags": []
   },
   "outputs": [
    {
     "name": "stdout",
     "output_type": "stream",
     "text": [
      "Q1: 0.0269894775, Q3: 0.0945852925, IQR: 0.067595815\n"
     ]
    }
   ],
   "source": [
    "# as the data is right skewed we are going to use iqr method to remove outliers\n",
    "\n",
    "productvisibility_Q1 = df['ProductVisibility'].quantile(0.25)  # 1st Quartile (25th percentile)\n",
    "productvisibility_Q3 = df['ProductVisibility'].quantile(0.75)  # 3rd Quartile (75th percentile)\n",
    "productvisibility_IQR = productvisibility_Q3 - productvisibility_Q1                     # Interquartile Range\n",
    "\n",
    "print(f\"Q1: {productvisibility_Q1}, Q3: {productvisibility_Q3}, IQR: {productvisibility_IQR}\")"
   ]
  },
  {
   "cell_type": "code",
   "execution_count": 28,
   "id": "dcfae529",
   "metadata": {
    "execution": {
     "iopub.execute_input": "2024-11-24T17:47:56.778622Z",
     "iopub.status.busy": "2024-11-24T17:47:56.777735Z",
     "iopub.status.idle": "2024-11-24T17:47:56.783875Z",
     "shell.execute_reply": "2024-11-24T17:47:56.782789Z"
    },
    "papermill": {
     "duration": 0.021545,
     "end_time": "2024-11-24T17:47:56.786041",
     "exception": false,
     "start_time": "2024-11-24T17:47:56.764496",
     "status": "completed"
    },
    "tags": []
   },
   "outputs": [
    {
     "name": "stdout",
     "output_type": "stream",
     "text": [
      "Upper limit = 0.195979015\n",
      "Lower limit = -0.07440424500000001\n"
     ]
    }
   ],
   "source": [
    "productvisibility_upper_limit = productvisibility_Q3 + 1.5*productvisibility_IQR \n",
    "productvisibility_lower_limit = productvisibility_Q1 - 1.5*productvisibility_IQR\n",
    "\n",
    "print(f\"Upper limit = {productvisibility_upper_limit}\")\n",
    "print(f\"Lower limit = {productvisibility_lower_limit}\")"
   ]
  },
  {
   "cell_type": "code",
   "execution_count": 29,
   "id": "155ad770",
   "metadata": {
    "execution": {
     "iopub.execute_input": "2024-11-24T17:47:56.812387Z",
     "iopub.status.busy": "2024-11-24T17:47:56.811689Z",
     "iopub.status.idle": "2024-11-24T17:47:56.829867Z",
     "shell.execute_reply": "2024-11-24T17:47:56.828864Z"
    },
    "papermill": {
     "duration": 0.033194,
     "end_time": "2024-11-24T17:47:56.831831",
     "exception": false,
     "start_time": "2024-11-24T17:47:56.798637",
     "status": "completed"
    },
    "tags": []
   },
   "outputs": [
    {
     "data": {
      "text/html": [
       "<div>\n",
       "<style scoped>\n",
       "    .dataframe tbody tr th:only-of-type {\n",
       "        vertical-align: middle;\n",
       "    }\n",
       "\n",
       "    .dataframe tbody tr th {\n",
       "        vertical-align: top;\n",
       "    }\n",
       "\n",
       "    .dataframe thead th {\n",
       "        text-align: right;\n",
       "    }\n",
       "</style>\n",
       "<table border=\"1\" class=\"dataframe\">\n",
       "  <thead>\n",
       "    <tr style=\"text-align: right;\">\n",
       "      <th></th>\n",
       "      <th>ProductID</th>\n",
       "      <th>Weight</th>\n",
       "      <th>FatContent</th>\n",
       "      <th>ProductVisibility</th>\n",
       "      <th>ProductType</th>\n",
       "      <th>MRP</th>\n",
       "      <th>OutletID</th>\n",
       "      <th>EstablishmentYear</th>\n",
       "      <th>OutletSize</th>\n",
       "      <th>LocationType</th>\n",
       "      <th>OutletType</th>\n",
       "      <th>OutletSales</th>\n",
       "    </tr>\n",
       "  </thead>\n",
       "  <tbody>\n",
       "    <tr>\n",
       "      <th>49</th>\n",
       "      <td>FDS02</td>\n",
       "      <td>12.857645</td>\n",
       "      <td>Regular</td>\n",
       "      <td>0.255395</td>\n",
       "      <td>Dairy</td>\n",
       "      <td>196.8794</td>\n",
       "      <td>OUT019</td>\n",
       "      <td>1985</td>\n",
       "      <td>Small</td>\n",
       "      <td>Tier 1</td>\n",
       "      <td>Grocery Store</td>\n",
       "      <td>780.3176</td>\n",
       "    </tr>\n",
       "    <tr>\n",
       "      <th>83</th>\n",
       "      <td>NCL18</td>\n",
       "      <td>12.857645</td>\n",
       "      <td>Low Fat</td>\n",
       "      <td>0.293418</td>\n",
       "      <td>Household</td>\n",
       "      <td>194.6136</td>\n",
       "      <td>OUT019</td>\n",
       "      <td>1985</td>\n",
       "      <td>Small</td>\n",
       "      <td>Tier 1</td>\n",
       "      <td>Grocery Store</td>\n",
       "      <td>583.2408</td>\n",
       "    </tr>\n",
       "    <tr>\n",
       "      <th>108</th>\n",
       "      <td>DRE60</td>\n",
       "      <td>12.857645</td>\n",
       "      <td>low fat</td>\n",
       "      <td>0.278974</td>\n",
       "      <td>Soft Drinks</td>\n",
       "      <td>225.3720</td>\n",
       "      <td>OUT019</td>\n",
       "      <td>1985</td>\n",
       "      <td>Small</td>\n",
       "      <td>Tier 1</td>\n",
       "      <td>Grocery Store</td>\n",
       "      <td>679.1160</td>\n",
       "    </tr>\n",
       "    <tr>\n",
       "      <th>174</th>\n",
       "      <td>FDI32</td>\n",
       "      <td>17.700000</td>\n",
       "      <td>Low Fat</td>\n",
       "      <td>0.291865</td>\n",
       "      <td>Fruits and Vegetables</td>\n",
       "      <td>115.1834</td>\n",
       "      <td>OUT010</td>\n",
       "      <td>1998</td>\n",
       "      <td>Medium</td>\n",
       "      <td>Tier 3</td>\n",
       "      <td>Grocery Store</td>\n",
       "      <td>345.5502</td>\n",
       "    </tr>\n",
       "    <tr>\n",
       "      <th>334</th>\n",
       "      <td>FDC41</td>\n",
       "      <td>12.857645</td>\n",
       "      <td>Low Fat</td>\n",
       "      <td>0.204700</td>\n",
       "      <td>Frozen Foods</td>\n",
       "      <td>76.8670</td>\n",
       "      <td>OUT019</td>\n",
       "      <td>1985</td>\n",
       "      <td>Small</td>\n",
       "      <td>Tier 1</td>\n",
       "      <td>Grocery Store</td>\n",
       "      <td>229.7010</td>\n",
       "    </tr>\n",
       "    <tr>\n",
       "      <th>...</th>\n",
       "      <td>...</td>\n",
       "      <td>...</td>\n",
       "      <td>...</td>\n",
       "      <td>...</td>\n",
       "      <td>...</td>\n",
       "      <td>...</td>\n",
       "      <td>...</td>\n",
       "      <td>...</td>\n",
       "      <td>...</td>\n",
       "      <td>...</td>\n",
       "      <td>...</td>\n",
       "      <td>...</td>\n",
       "    </tr>\n",
       "    <tr>\n",
       "      <th>8292</th>\n",
       "      <td>FDF56</td>\n",
       "      <td>12.857645</td>\n",
       "      <td>Regular</td>\n",
       "      <td>0.209163</td>\n",
       "      <td>Fruits and Vegetables</td>\n",
       "      <td>179.1976</td>\n",
       "      <td>OUT019</td>\n",
       "      <td>1985</td>\n",
       "      <td>Small</td>\n",
       "      <td>Tier 1</td>\n",
       "      <td>Grocery Store</td>\n",
       "      <td>543.2928</td>\n",
       "    </tr>\n",
       "    <tr>\n",
       "      <th>8345</th>\n",
       "      <td>FDY28</td>\n",
       "      <td>12.857645</td>\n",
       "      <td>Regular</td>\n",
       "      <td>0.266397</td>\n",
       "      <td>Frozen Foods</td>\n",
       "      <td>215.6218</td>\n",
       "      <td>OUT019</td>\n",
       "      <td>1985</td>\n",
       "      <td>Small</td>\n",
       "      <td>Tier 1</td>\n",
       "      <td>Grocery Store</td>\n",
       "      <td>641.1654</td>\n",
       "    </tr>\n",
       "    <tr>\n",
       "      <th>8371</th>\n",
       "      <td>DRA59</td>\n",
       "      <td>8.270000</td>\n",
       "      <td>Regular</td>\n",
       "      <td>0.214125</td>\n",
       "      <td>Soft Drinks</td>\n",
       "      <td>183.9924</td>\n",
       "      <td>OUT010</td>\n",
       "      <td>1998</td>\n",
       "      <td>Medium</td>\n",
       "      <td>Tier 3</td>\n",
       "      <td>Grocery Store</td>\n",
       "      <td>185.0924</td>\n",
       "    </tr>\n",
       "    <tr>\n",
       "      <th>8432</th>\n",
       "      <td>FDI16</td>\n",
       "      <td>14.000000</td>\n",
       "      <td>Regular</td>\n",
       "      <td>0.227261</td>\n",
       "      <td>Frozen Foods</td>\n",
       "      <td>54.3640</td>\n",
       "      <td>OUT010</td>\n",
       "      <td>1998</td>\n",
       "      <td>Medium</td>\n",
       "      <td>Tier 3</td>\n",
       "      <td>Grocery Store</td>\n",
       "      <td>159.7920</td>\n",
       "    </tr>\n",
       "    <tr>\n",
       "      <th>8509</th>\n",
       "      <td>FDG45</td>\n",
       "      <td>8.100000</td>\n",
       "      <td>Low Fat</td>\n",
       "      <td>0.214306</td>\n",
       "      <td>Fruits and Vegetables</td>\n",
       "      <td>213.9902</td>\n",
       "      <td>OUT010</td>\n",
       "      <td>1998</td>\n",
       "      <td>Medium</td>\n",
       "      <td>Tier 3</td>\n",
       "      <td>Grocery Store</td>\n",
       "      <td>424.7804</td>\n",
       "    </tr>\n",
       "  </tbody>\n",
       "</table>\n",
       "<p>144 rows × 12 columns</p>\n",
       "</div>"
      ],
      "text/plain": [
       "     ProductID     Weight FatContent  ProductVisibility  \\\n",
       "49       FDS02  12.857645    Regular           0.255395   \n",
       "83       NCL18  12.857645    Low Fat           0.293418   \n",
       "108      DRE60  12.857645    low fat           0.278974   \n",
       "174      FDI32  17.700000    Low Fat           0.291865   \n",
       "334      FDC41  12.857645    Low Fat           0.204700   \n",
       "...        ...        ...        ...                ...   \n",
       "8292     FDF56  12.857645    Regular           0.209163   \n",
       "8345     FDY28  12.857645    Regular           0.266397   \n",
       "8371     DRA59   8.270000    Regular           0.214125   \n",
       "8432     FDI16  14.000000    Regular           0.227261   \n",
       "8509     FDG45   8.100000    Low Fat           0.214306   \n",
       "\n",
       "                ProductType       MRP OutletID  EstablishmentYear OutletSize  \\\n",
       "49                    Dairy  196.8794   OUT019               1985      Small   \n",
       "83                Household  194.6136   OUT019               1985      Small   \n",
       "108             Soft Drinks  225.3720   OUT019               1985      Small   \n",
       "174   Fruits and Vegetables  115.1834   OUT010               1998     Medium   \n",
       "334            Frozen Foods   76.8670   OUT019               1985      Small   \n",
       "...                     ...       ...      ...                ...        ...   \n",
       "8292  Fruits and Vegetables  179.1976   OUT019               1985      Small   \n",
       "8345           Frozen Foods  215.6218   OUT019               1985      Small   \n",
       "8371            Soft Drinks  183.9924   OUT010               1998     Medium   \n",
       "8432           Frozen Foods   54.3640   OUT010               1998     Medium   \n",
       "8509  Fruits and Vegetables  213.9902   OUT010               1998     Medium   \n",
       "\n",
       "     LocationType     OutletType  OutletSales  \n",
       "49         Tier 1  Grocery Store     780.3176  \n",
       "83         Tier 1  Grocery Store     583.2408  \n",
       "108        Tier 1  Grocery Store     679.1160  \n",
       "174        Tier 3  Grocery Store     345.5502  \n",
       "334        Tier 1  Grocery Store     229.7010  \n",
       "...           ...            ...          ...  \n",
       "8292       Tier 1  Grocery Store     543.2928  \n",
       "8345       Tier 1  Grocery Store     641.1654  \n",
       "8371       Tier 3  Grocery Store     185.0924  \n",
       "8432       Tier 3  Grocery Store     159.7920  \n",
       "8509       Tier 3  Grocery Store     424.7804  \n",
       "\n",
       "[144 rows x 12 columns]"
      ]
     },
     "execution_count": 29,
     "metadata": {},
     "output_type": "execute_result"
    }
   ],
   "source": [
    "df[df[\"ProductVisibility\"]>productvisibility_upper_limit]"
   ]
  },
  {
   "cell_type": "code",
   "execution_count": 30,
   "id": "18ca8a30",
   "metadata": {
    "execution": {
     "iopub.execute_input": "2024-11-24T17:47:56.857953Z",
     "iopub.status.busy": "2024-11-24T17:47:56.857577Z",
     "iopub.status.idle": "2024-11-24T17:47:56.868405Z",
     "shell.execute_reply": "2024-11-24T17:47:56.867257Z"
    },
    "papermill": {
     "duration": 0.02598,
     "end_time": "2024-11-24T17:47:56.870452",
     "exception": false,
     "start_time": "2024-11-24T17:47:56.844472",
     "status": "completed"
    },
    "tags": []
   },
   "outputs": [
    {
     "data": {
      "text/html": [
       "<div>\n",
       "<style scoped>\n",
       "    .dataframe tbody tr th:only-of-type {\n",
       "        vertical-align: middle;\n",
       "    }\n",
       "\n",
       "    .dataframe tbody tr th {\n",
       "        vertical-align: top;\n",
       "    }\n",
       "\n",
       "    .dataframe thead th {\n",
       "        text-align: right;\n",
       "    }\n",
       "</style>\n",
       "<table border=\"1\" class=\"dataframe\">\n",
       "  <thead>\n",
       "    <tr style=\"text-align: right;\">\n",
       "      <th></th>\n",
       "      <th>ProductID</th>\n",
       "      <th>Weight</th>\n",
       "      <th>FatContent</th>\n",
       "      <th>ProductVisibility</th>\n",
       "      <th>ProductType</th>\n",
       "      <th>MRP</th>\n",
       "      <th>OutletID</th>\n",
       "      <th>EstablishmentYear</th>\n",
       "      <th>OutletSize</th>\n",
       "      <th>LocationType</th>\n",
       "      <th>OutletType</th>\n",
       "      <th>OutletSales</th>\n",
       "    </tr>\n",
       "  </thead>\n",
       "  <tbody>\n",
       "  </tbody>\n",
       "</table>\n",
       "</div>"
      ],
      "text/plain": [
       "Empty DataFrame\n",
       "Columns: [ProductID, Weight, FatContent, ProductVisibility, ProductType, MRP, OutletID, EstablishmentYear, OutletSize, LocationType, OutletType, OutletSales]\n",
       "Index: []"
      ]
     },
     "execution_count": 30,
     "metadata": {},
     "output_type": "execute_result"
    }
   ],
   "source": [
    "df[df[\"ProductVisibility\"]<outletsales_lower_limit]"
   ]
  },
  {
   "cell_type": "code",
   "execution_count": 31,
   "id": "ba40bf41",
   "metadata": {
    "execution": {
     "iopub.execute_input": "2024-11-24T17:47:56.896647Z",
     "iopub.status.busy": "2024-11-24T17:47:56.896260Z",
     "iopub.status.idle": "2024-11-24T17:47:56.902526Z",
     "shell.execute_reply": "2024-11-24T17:47:56.901540Z"
    },
    "papermill": {
     "duration": 0.021705,
     "end_time": "2024-11-24T17:47:56.904377",
     "exception": false,
     "start_time": "2024-11-24T17:47:56.882672",
     "status": "completed"
    },
    "tags": []
   },
   "outputs": [],
   "source": [
    "# as the dataset is less and sales data is meaningfull so we will use capping method\n",
    "\n",
    "df[\"ProductVisibility\"] = np.where(\n",
    "    df[\"ProductVisibility\"] > productvisibility_upper_limit , productvisibility_upper_limit ,\n",
    "    np.where(df[\"ProductVisibility\"]< productvisibility_lower_limit , productvisibility_lower_limit,df[\"ProductVisibility\"])\n",
    ")"
   ]
  },
  {
   "cell_type": "code",
   "execution_count": 32,
   "id": "2df678b3",
   "metadata": {
    "execution": {
     "iopub.execute_input": "2024-11-24T17:47:56.930381Z",
     "iopub.status.busy": "2024-11-24T17:47:56.930024Z",
     "iopub.status.idle": "2024-11-24T17:47:57.073672Z",
     "shell.execute_reply": "2024-11-24T17:47:57.072356Z"
    },
    "papermill": {
     "duration": 0.16142,
     "end_time": "2024-11-24T17:47:57.078000",
     "exception": false,
     "start_time": "2024-11-24T17:47:56.916580",
     "status": "completed"
    },
    "tags": []
   },
   "outputs": [
    {
     "data": {
      "image/png": "[encoded data removed]",
      "text/plain": [
       "<Figure size 800x500 with 1 Axes>"
      ]
     },
     "metadata": {},
     "output_type": "display_data"
    }
   ],
   "source": [
    "# checking if outliers are removed\n",
    "\n",
    "plt.figure(figsize=(8, 5))\n",
    "sns.boxplot(x=df[\"ProductVisibility\"])\n",
    "plt.title(\"Boxplot of ProductVisibility\")\n",
    "plt.xlabel(\"ProductVisibility\")\n",
    "plt.grid(True)\n",
    "plt.show()"
   ]
  },
  {
   "cell_type": "markdown",
   "id": "da1a721b",
   "metadata": {
    "papermill": {
     "duration": 0.012413,
     "end_time": "2024-11-24T17:47:57.110322",
     "exception": false,
     "start_time": "2024-11-24T17:47:57.097909",
     "status": "completed"
    },
    "tags": []
   },
   "source": [
    "## Data Visualisation"
   ]
  },
  {
   "cell_type": "code",
   "execution_count": 33,
   "id": "a432729f",
   "metadata": {
    "execution": {
     "iopub.execute_input": "2024-11-24T17:47:57.137093Z",
     "iopub.status.busy": "2024-11-24T17:47:57.136658Z",
     "iopub.status.idle": "2024-11-24T17:47:57.478995Z",
     "shell.execute_reply": "2024-11-24T17:47:57.478022Z"
    },
    "papermill": {
     "duration": 0.35834,
     "end_time": "2024-11-24T17:47:57.481316",
     "exception": false,
     "start_time": "2024-11-24T17:47:57.122976",
     "status": "completed"
    },
    "tags": []
   },
   "outputs": [
    {
     "data": {
      "image/png": "[encoded data removed]",
      "text/plain": [
       "<Figure size 640x480 with 1 Axes>"
      ]
     },
     "metadata": {},
     "output_type": "display_data"
    }
   ],
   "source": [
    "sns.histplot(data=df, x='Weight', bins=20, kde=True)\n",
    "plt.title('Weight Distribution')\n",
    "plt.xlabel('Weight')\n",
    "plt.ylabel('Frequency')\n",
    "plt.show()"
   ]
  },
  {
   "cell_type": "code",
   "execution_count": 34,
   "id": "d83eecf3",
   "metadata": {
    "execution": {
     "iopub.execute_input": "2024-11-24T17:47:57.508773Z",
     "iopub.status.busy": "2024-11-24T17:47:57.508362Z",
     "iopub.status.idle": "2024-11-24T17:47:57.516200Z",
     "shell.execute_reply": "2024-11-24T17:47:57.515091Z"
    },
    "papermill": {
     "duration": 0.023592,
     "end_time": "2024-11-24T17:47:57.518016",
     "exception": false,
     "start_time": "2024-11-24T17:47:57.494424",
     "status": "completed"
    },
    "tags": []
   },
   "outputs": [
    {
     "name": "stdout",
     "output_type": "stream",
     "text": [
      "Skewness: 0.09054551283291795\n"
     ]
    }
   ],
   "source": [
    "skewness_value = skew(df['Weight'])\n",
    "print(f\"Skewness: {skewness_value}\")"
   ]
  },
  {
   "cell_type": "markdown",
   "id": "00b1f928",
   "metadata": {
    "papermill": {
     "duration": 0.012672,
     "end_time": "2024-11-24T17:47:57.544028",
     "exception": false,
     "start_time": "2024-11-24T17:47:57.531356",
     "status": "completed"
    },
    "tags": []
   },
   "source": [
    "As there is no skewness, we dont need to transform the data"
   ]
  },
  {
   "cell_type": "code",
   "execution_count": 35,
   "id": "d8d27fa1",
   "metadata": {
    "execution": {
     "iopub.execute_input": "2024-11-24T17:47:57.571722Z",
     "iopub.status.busy": "2024-11-24T17:47:57.571297Z",
     "iopub.status.idle": "2024-11-24T17:47:57.578565Z",
     "shell.execute_reply": "2024-11-24T17:47:57.577667Z"
    },
    "papermill": {
     "duration": 0.023521,
     "end_time": "2024-11-24T17:47:57.580418",
     "exception": false,
     "start_time": "2024-11-24T17:47:57.556897",
     "status": "completed"
    },
    "tags": []
   },
   "outputs": [
    {
     "data": {
      "text/plain": [
       "array(['Low Fat', 'Regular', 'low fat', 'LF', 'reg'], dtype=object)"
      ]
     },
     "execution_count": 35,
     "metadata": {},
     "output_type": "execute_result"
    }
   ],
   "source": [
    "df['FatContent'].unique()"
   ]
  },
  {
   "cell_type": "code",
   "execution_count": 36,
   "id": "8b2c4874",
   "metadata": {
    "execution": {
     "iopub.execute_input": "2024-11-24T17:47:57.608863Z",
     "iopub.status.busy": "2024-11-24T17:47:57.608485Z",
     "iopub.status.idle": "2024-11-24T17:47:57.618421Z",
     "shell.execute_reply": "2024-11-24T17:47:57.617416Z"
    },
    "papermill": {
     "duration": 0.026416,
     "end_time": "2024-11-24T17:47:57.620338",
     "exception": false,
     "start_time": "2024-11-24T17:47:57.593922",
     "status": "completed"
    },
    "tags": []
   },
   "outputs": [
    {
     "data": {
      "text/plain": [
       "array(['Low Fat', 'Regular'], dtype=object)"
      ]
     },
     "execution_count": 36,
     "metadata": {},
     "output_type": "execute_result"
    }
   ],
   "source": [
    "df['FatContent'] = df['FatContent'].replace({\n",
    "    'reg': 'Regular',  # Replace 'reg' with 'Regular'\n",
    "    'LF': 'Low Fat',   # Replace 'LF' with 'Low Fat'\n",
    "    'low fat': 'Low Fat'  # Replace 'low fat' with 'Low Fat'\n",
    "})\n",
    "\n",
    "df['FatContent'].unique()"
   ]
  },
  {
   "cell_type": "code",
   "execution_count": 37,
   "id": "1032e631",
   "metadata": {
    "execution": {
     "iopub.execute_input": "2024-11-24T17:47:57.648547Z",
     "iopub.status.busy": "2024-11-24T17:47:57.648164Z",
     "iopub.status.idle": "2024-11-24T17:47:57.835358Z",
     "shell.execute_reply": "2024-11-24T17:47:57.834045Z"
    },
    "papermill": {
     "duration": 0.206771,
     "end_time": "2024-11-24T17:47:57.840485",
     "exception": false,
     "start_time": "2024-11-24T17:47:57.633714",
     "status": "completed"
    },
    "tags": []
   },
   "outputs": [
    {
     "data": {
      "image/png": "[encoded data removed]",
      "text/plain": [
       "<Figure size 600x600 with 1 Axes>"
      ]
     },
     "metadata": {},
     "output_type": "display_data"
    }
   ],
   "source": [
    "# Get value counts for the 'FatContent' column\n",
    "fat_content_counts = df['FatContent'].value_counts()\n",
    "\n",
    "# Prepare data for pie chart\n",
    "y = fat_content_counts\n",
    "mylabels = fat_content_counts.index\n",
    "myexplode = (0.1, 0)  # Explode the first slice (e.g., 'Low Fat')\n",
    "\n",
    "# Plotting the pie chart\n",
    "plt.figure(figsize=(6, 6))\n",
    "plt.pie(y, labels=mylabels, explode=myexplode, shadow=True, startangle=90, autopct='%1.1f%%')\n",
    "plt.title('Fat Content Distribution')\n",
    "plt.show()"
   ]
  },
  {
   "cell_type": "code",
   "execution_count": null,
   "id": "74786dad",
   "metadata": {
    "papermill": {
     "duration": 0.025219,
     "end_time": "2024-11-24T17:47:57.912105",
     "exception": false,
     "start_time": "2024-11-24T17:47:57.886886",
     "status": "completed"
    },
    "tags": []
   },
   "outputs": [],
   "source": []
  }
 ],
 "metadata": {
  "kaggle": {
   "accelerator": "none",
   "dataSources": [
    {
     "datasetId": 1593544,
     "sourceId": 2621633,
     "sourceType": "datasetVersion"
    }
   ],
   "dockerImageVersionId": 30786,
   "isGpuEnabled": false,
   "isInternetEnabled": true,
   "language": "python",
   "sourceType": "notebook"
  },
  "kernelspec": {
   "display_name": "Python 3",
   "language": "python",
   "name": "python3"
  },
  "language_info": {
   "codemirror_mode": {
    "name": "ipython",
    "version": 3
   },
   "file_extension": ".py",
   "mimetype": "text/x-python",
   "name": "python",
   "nbconvert_exporter": "python",
   "pygments_lexer": "ipython3",
   "version": "3.10.14"
  },
  "papermill": {
   "default_parameters": {},
   "duration": 9.384394,
   "end_time": "2024-11-24T17:47:58.552340",
   "environment_variables": {},
   "exception": null,
   "input_path": "__notebook__.ipynb",
   "output_path": "__notebook__.ipynb",
   "parameters": {},
   "start_time": "2024-11-24T17:47:49.167946",
   "version": "2.6.0"
  }
 },
 "nbformat": 4,
 "nbformat_minor": 5
}
