{
 "cells": [
  {
   "cell_type": "code",
   "execution_count": 1,
   "id": "6dec23d7",
   "metadata": {
    "_cell_guid": "b1076dfc-b9ad-4769-8c92-a6c4dae69d19",
    "_uuid": "8f2839f25d086af736a60e9eeb907d3b93b6e0e5",
    "execution": {
     "iopub.execute_input": "2024-11-15T16:20:13.276400Z",
     "iopub.status.busy": "2024-11-15T16:20:13.275946Z",
     "iopub.status.idle": "2024-11-15T16:20:16.575316Z",
     "shell.execute_reply": "2024-11-15T16:20:16.574156Z"
    },
    "papermill": {
     "duration": 3.310947,
     "end_time": "2024-11-15T16:20:16.577919",
     "exception": false,
     "start_time": "2024-11-15T16:20:13.266972",
     "status": "completed"
    },
    "tags": []
   },
   "outputs": [
    {
     "name": "stdout",
     "output_type": "stream",
     "text": [
      "/kaggle/input/big-mart-sales/Test-Set.csv\n",
      "/kaggle/input/big-mart-sales/Train-Set.csv\n"
     ]
    }
   ],
   "source": [
    "#importing packages\n",
    "\n",
    "import numpy as np # linear algebra\n",
    "import pandas as pd # data processing, CSV file I/O (e.g. pd.read_csv)\n",
    "import matplotlib.pyplot as plt\n",
    "import seaborn as sns\n",
    "\n",
    "import os\n",
    "for dirname, _, filenames in os.walk('/kaggle/input'):\n",
    "    for filename in filenames:\n",
    "        print(os.path.join(dirname, filename))"
   ]
  },
  {
   "cell_type": "code",
   "execution_count": 2,
   "id": "92345674",
   "metadata": {
    "execution": {
     "iopub.execute_input": "2024-11-15T16:20:16.594023Z",
     "iopub.status.busy": "2024-11-15T16:20:16.593018Z",
     "iopub.status.idle": "2024-11-15T16:20:16.652626Z",
     "shell.execute_reply": "2024-11-15T16:20:16.651451Z"
    },
    "papermill": {
     "duration": 0.07048,
     "end_time": "2024-11-15T16:20:16.655480",
     "exception": false,
     "start_time": "2024-11-15T16:20:16.585000",
     "status": "completed"
    },
    "tags": []
   },
   "outputs": [],
   "source": [
    "df = pd.read_csv(\"/kaggle/input/big-mart-sales/Train-Set.csv\")"
   ]
  },
  {
   "cell_type": "markdown",
   "id": "a19acc6a",
   "metadata": {
    "papermill": {
     "duration": 0.006288,
     "end_time": "2024-11-15T16:20:16.668539",
     "exception": false,
     "start_time": "2024-11-15T16:20:16.662251",
     "status": "completed"
    },
    "tags": []
   },
   "source": [
    "## Getting the overview"
   ]
  },
  {
   "cell_type": "code",
   "execution_count": 3,
   "id": "d1d27371",
   "metadata": {
    "execution": {
     "iopub.execute_input": "2024-11-15T16:20:16.683599Z",
     "iopub.status.busy": "2024-11-15T16:20:16.683165Z",
     "iopub.status.idle": "2024-11-15T16:20:16.715369Z",
     "shell.execute_reply": "2024-11-15T16:20:16.714218Z"
    },
    "papermill": {
     "duration": 0.042855,
     "end_time": "2024-11-15T16:20:16.718110",
     "exception": false,
     "start_time": "2024-11-15T16:20:16.675255",
     "status": "completed"
    },
    "tags": []
   },
   "outputs": [
    {
     "data": {
      "text/html": [
       "<div>\n",
       "<style scoped>\n",
       "    .dataframe tbody tr th:only-of-type {\n",
       "        vertical-align: middle;\n",
       "    }\n",
       "\n",
       "    .dataframe tbody tr th {\n",
       "        vertical-align: top;\n",
       "    }\n",
       "\n",
       "    .dataframe thead th {\n",
       "        text-align: right;\n",
       "    }\n",
       "</style>\n",
       "<table border=\"1\" class=\"dataframe\">\n",
       "  <thead>\n",
       "    <tr style=\"text-align: right;\">\n",
       "      <th></th>\n",
       "      <th>ProductID</th>\n",
       "      <th>Weight</th>\n",
       "      <th>FatContent</th>\n",
       "      <th>ProductVisibility</th>\n",
       "      <th>ProductType</th>\n",
       "      <th>MRP</th>\n",
       "      <th>OutletID</th>\n",
       "      <th>EstablishmentYear</th>\n",
       "      <th>OutletSize</th>\n",
       "      <th>LocationType</th>\n",
       "      <th>OutletType</th>\n",
       "      <th>OutletSales</th>\n",
       "    </tr>\n",
       "  </thead>\n",
       "  <tbody>\n",
       "    <tr>\n",
       "      <th>0</th>\n",
       "      <td>FDA15</td>\n",
       "      <td>9.30</td>\n",
       "      <td>Low Fat</td>\n",
       "      <td>0.016047</td>\n",
       "      <td>Dairy</td>\n",
       "      <td>249.8092</td>\n",
       "      <td>OUT049</td>\n",
       "      <td>1999</td>\n",
       "      <td>Medium</td>\n",
       "      <td>Tier 1</td>\n",
       "      <td>Supermarket Type1</td>\n",
       "      <td>3735.1380</td>\n",
       "    </tr>\n",
       "    <tr>\n",
       "      <th>1</th>\n",
       "      <td>DRC01</td>\n",
       "      <td>5.92</td>\n",
       "      <td>Regular</td>\n",
       "      <td>0.019278</td>\n",
       "      <td>Soft Drinks</td>\n",
       "      <td>48.2692</td>\n",
       "      <td>OUT018</td>\n",
       "      <td>2009</td>\n",
       "      <td>Medium</td>\n",
       "      <td>Tier 3</td>\n",
       "      <td>Supermarket Type2</td>\n",
       "      <td>443.4228</td>\n",
       "    </tr>\n",
       "    <tr>\n",
       "      <th>2</th>\n",
       "      <td>FDN15</td>\n",
       "      <td>17.50</td>\n",
       "      <td>Low Fat</td>\n",
       "      <td>0.016760</td>\n",
       "      <td>Meat</td>\n",
       "      <td>141.6180</td>\n",
       "      <td>OUT049</td>\n",
       "      <td>1999</td>\n",
       "      <td>Medium</td>\n",
       "      <td>Tier 1</td>\n",
       "      <td>Supermarket Type1</td>\n",
       "      <td>2097.2700</td>\n",
       "    </tr>\n",
       "    <tr>\n",
       "      <th>3</th>\n",
       "      <td>FDX07</td>\n",
       "      <td>19.20</td>\n",
       "      <td>Regular</td>\n",
       "      <td>0.000000</td>\n",
       "      <td>Fruits and Vegetables</td>\n",
       "      <td>182.0950</td>\n",
       "      <td>OUT010</td>\n",
       "      <td>1998</td>\n",
       "      <td>NaN</td>\n",
       "      <td>Tier 3</td>\n",
       "      <td>Grocery Store</td>\n",
       "      <td>732.3800</td>\n",
       "    </tr>\n",
       "    <tr>\n",
       "      <th>4</th>\n",
       "      <td>NCD19</td>\n",
       "      <td>8.93</td>\n",
       "      <td>Low Fat</td>\n",
       "      <td>0.000000</td>\n",
       "      <td>Household</td>\n",
       "      <td>53.8614</td>\n",
       "      <td>OUT013</td>\n",
       "      <td>1987</td>\n",
       "      <td>High</td>\n",
       "      <td>Tier 3</td>\n",
       "      <td>Supermarket Type1</td>\n",
       "      <td>994.7052</td>\n",
       "    </tr>\n",
       "  </tbody>\n",
       "</table>\n",
       "</div>"
      ],
      "text/plain": [
       "  ProductID  Weight FatContent  ProductVisibility            ProductType  \\\n",
       "0     FDA15    9.30    Low Fat           0.016047                  Dairy   \n",
       "1     DRC01    5.92    Regular           0.019278            Soft Drinks   \n",
       "2     FDN15   17.50    Low Fat           0.016760                   Meat   \n",
       "3     FDX07   19.20    Regular           0.000000  Fruits and Vegetables   \n",
       "4     NCD19    8.93    Low Fat           0.000000              Household   \n",
       "\n",
       "        MRP OutletID  EstablishmentYear OutletSize LocationType  \\\n",
       "0  249.8092   OUT049               1999     Medium       Tier 1   \n",
       "1   48.2692   OUT018               2009     Medium       Tier 3   \n",
       "2  141.6180   OUT049               1999     Medium       Tier 1   \n",
       "3  182.0950   OUT010               1998        NaN       Tier 3   \n",
       "4   53.8614   OUT013               1987       High       Tier 3   \n",
       "\n",
       "          OutletType  OutletSales  \n",
       "0  Supermarket Type1    3735.1380  \n",
       "1  Supermarket Type2     443.4228  \n",
       "2  Supermarket Type1    2097.2700  \n",
       "3      Grocery Store     732.3800  \n",
       "4  Supermarket Type1     994.7052  "
      ]
     },
     "execution_count": 3,
     "metadata": {},
     "output_type": "execute_result"
    }
   ],
   "source": [
    "# getting the first 5 rows\n",
    "\n",
    "df.head()"
   ]
  },
  {
   "cell_type": "code",
   "execution_count": 4,
   "id": "98654f40",
   "metadata": {
    "execution": {
     "iopub.execute_input": "2024-11-15T16:20:16.734243Z",
     "iopub.status.busy": "2024-11-15T16:20:16.733815Z",
     "iopub.status.idle": "2024-11-15T16:20:16.740795Z",
     "shell.execute_reply": "2024-11-15T16:20:16.739801Z"
    },
    "papermill": {
     "duration": 0.018115,
     "end_time": "2024-11-15T16:20:16.743513",
     "exception": false,
     "start_time": "2024-11-15T16:20:16.725398",
     "status": "completed"
    },
    "tags": []
   },
   "outputs": [
    {
     "data": {
      "text/plain": [
       "(8523, 12)"
      ]
     },
     "execution_count": 4,
     "metadata": {},
     "output_type": "execute_result"
    }
   ],
   "source": [
    "# shape of the data\n",
    "\n",
    "df.shape"
   ]
  },
  {
   "cell_type": "code",
   "execution_count": 5,
   "id": "7946dc38",
   "metadata": {
    "execution": {
     "iopub.execute_input": "2024-11-15T16:20:16.760350Z",
     "iopub.status.busy": "2024-11-15T16:20:16.759924Z",
     "iopub.status.idle": "2024-11-15T16:20:16.799533Z",
     "shell.execute_reply": "2024-11-15T16:20:16.798112Z"
    },
    "papermill": {
     "duration": 0.051372,
     "end_time": "2024-11-15T16:20:16.802258",
     "exception": false,
     "start_time": "2024-11-15T16:20:16.750886",
     "status": "completed"
    },
    "tags": []
   },
   "outputs": [
    {
     "name": "stdout",
     "output_type": "stream",
     "text": [
      "<class 'pandas.core.frame.DataFrame'>\n",
      "RangeIndex: 8523 entries, 0 to 8522\n",
      "Data columns (total 12 columns):\n",
      " #   Column             Non-Null Count  Dtype  \n",
      "---  ------             --------------  -----  \n",
      " 0   ProductID          8523 non-null   object \n",
      " 1   Weight             7060 non-null   float64\n",
      " 2   FatContent         8523 non-null   object \n",
      " 3   ProductVisibility  8523 non-null   float64\n",
      " 4   ProductType        8523 non-null   object \n",
      " 5   MRP                8523 non-null   float64\n",
      " 6   OutletID           8523 non-null   object \n",
      " 7   EstablishmentYear  8523 non-null   int64  \n",
      " 8   OutletSize         6113 non-null   object \n",
      " 9   LocationType       8523 non-null   object \n",
      " 10  OutletType         8523 non-null   object \n",
      " 11  OutletSales        8523 non-null   float64\n",
      "dtypes: float64(4), int64(1), object(7)\n",
      "memory usage: 799.2+ KB\n"
     ]
    }
   ],
   "source": [
    "# getting the overview \n",
    "\n",
    "df.info()"
   ]
  },
  {
   "cell_type": "code",
   "execution_count": 6,
   "id": "5cf8d9bd",
   "metadata": {
    "execution": {
     "iopub.execute_input": "2024-11-15T16:20:16.818965Z",
     "iopub.status.busy": "2024-11-15T16:20:16.818489Z",
     "iopub.status.idle": "2024-11-15T16:20:16.828181Z",
     "shell.execute_reply": "2024-11-15T16:20:16.826670Z"
    },
    "papermill": {
     "duration": 0.020866,
     "end_time": "2024-11-15T16:20:16.830599",
     "exception": false,
     "start_time": "2024-11-15T16:20:16.809733",
     "status": "completed"
    },
    "tags": []
   },
   "outputs": [
    {
     "name": "stdout",
     "output_type": "stream",
     "text": [
      "Categorical Columns: ['ProductID', 'FatContent', 'ProductType', 'OutletID', 'OutletSize', 'LocationType', 'OutletType']\n",
      "Numerical Columns: ['Weight', 'ProductVisibility', 'MRP', 'EstablishmentYear', 'OutletSales']\n"
     ]
    }
   ],
   "source": [
    "# Get categorical columns\n",
    "categorical_columns = df.select_dtypes(include=['object', 'category']).columns.tolist()\n",
    "\n",
    "# Get numerical columns\n",
    "numerical_columns = df.select_dtypes(include=['int64', 'float64']).columns.tolist()\n",
    "\n",
    "print(\"Categorical Columns:\", categorical_columns)\n",
    "print(\"Numerical Columns:\", numerical_columns)"
   ]
  },
  {
   "cell_type": "code",
   "execution_count": 7,
   "id": "9e39aeaf",
   "metadata": {
    "execution": {
     "iopub.execute_input": "2024-11-15T16:20:16.849522Z",
     "iopub.status.busy": "2024-11-15T16:20:16.848356Z",
     "iopub.status.idle": "2024-11-15T16:20:16.867582Z",
     "shell.execute_reply": "2024-11-15T16:20:16.866431Z"
    },
    "papermill": {
     "duration": 0.031347,
     "end_time": "2024-11-15T16:20:16.870588",
     "exception": false,
     "start_time": "2024-11-15T16:20:16.839241",
     "status": "completed"
    },
    "tags": []
   },
   "outputs": [
    {
     "data": {
      "text/plain": [
       "0"
      ]
     },
     "execution_count": 7,
     "metadata": {},
     "output_type": "execute_result"
    }
   ],
   "source": [
    "# checking duplicate values\n",
    "\n",
    "df.duplicated().sum()"
   ]
  },
  {
   "cell_type": "code",
   "execution_count": 8,
   "id": "72d06c47",
   "metadata": {
    "execution": {
     "iopub.execute_input": "2024-11-15T16:20:16.888409Z",
     "iopub.status.busy": "2024-11-15T16:20:16.887377Z",
     "iopub.status.idle": "2024-11-15T16:20:16.904272Z",
     "shell.execute_reply": "2024-11-15T16:20:16.903178Z"
    },
    "papermill": {
     "duration": 0.028491,
     "end_time": "2024-11-15T16:20:16.906790",
     "exception": false,
     "start_time": "2024-11-15T16:20:16.878299",
     "status": "completed"
    },
    "tags": []
   },
   "outputs": [
    {
     "data": {
      "text/plain": [
       "ProductID             0.000000\n",
       "Weight               17.165317\n",
       "FatContent            0.000000\n",
       "ProductVisibility     0.000000\n",
       "ProductType           0.000000\n",
       "MRP                   0.000000\n",
       "OutletID              0.000000\n",
       "EstablishmentYear     0.000000\n",
       "OutletSize           28.276428\n",
       "LocationType          0.000000\n",
       "OutletType            0.000000\n",
       "OutletSales           0.000000\n",
       "dtype: float64"
      ]
     },
     "execution_count": 8,
     "metadata": {},
     "output_type": "execute_result"
    }
   ],
   "source": [
    "# getting the percentage of null data\n",
    "\n",
    "df.isnull().mean()*100"
   ]
  },
  {
   "cell_type": "markdown",
   "id": "520ebb02",
   "metadata": {
    "papermill": {
     "duration": 0.007589,
     "end_time": "2024-11-15T16:20:16.922154",
     "exception": false,
     "start_time": "2024-11-15T16:20:16.914565",
     "status": "completed"
    },
    "tags": []
   },
   "source": [
    "## Handeling the null values"
   ]
  },
  {
   "cell_type": "code",
   "execution_count": 9,
   "id": "3237945d",
   "metadata": {
    "execution": {
     "iopub.execute_input": "2024-11-15T16:20:16.939515Z",
     "iopub.status.busy": "2024-11-15T16:20:16.939101Z",
     "iopub.status.idle": "2024-11-15T16:20:16.946952Z",
     "shell.execute_reply": "2024-11-15T16:20:16.945729Z"
    },
    "papermill": {
     "duration": 0.019526,
     "end_time": "2024-11-15T16:20:16.949418",
     "exception": false,
     "start_time": "2024-11-15T16:20:16.929892",
     "status": "completed"
    },
    "tags": []
   },
   "outputs": [
    {
     "data": {
      "text/plain": [
       "12.857645184135976"
      ]
     },
     "execution_count": 9,
     "metadata": {},
     "output_type": "execute_result"
    }
   ],
   "source": [
    "# weight is numerical so we can checking its mean\n",
    "\n",
    "df['Weight'].mean()"
   ]
  },
  {
   "cell_type": "code",
   "execution_count": 10,
   "id": "6dcc3bf6",
   "metadata": {
    "execution": {
     "iopub.execute_input": "2024-11-15T16:20:16.967494Z",
     "iopub.status.busy": "2024-11-15T16:20:16.967048Z",
     "iopub.status.idle": "2024-11-15T16:20:16.974470Z",
     "shell.execute_reply": "2024-11-15T16:20:16.973078Z"
    },
    "papermill": {
     "duration": 0.019641,
     "end_time": "2024-11-15T16:20:16.977317",
     "exception": false,
     "start_time": "2024-11-15T16:20:16.957676",
     "status": "completed"
    },
    "tags": []
   },
   "outputs": [],
   "source": [
    "# filling the missing weight column with mean value\n",
    "\n",
    "df['Weight'] = df['Weight'].fillna(df['Weight'].mean())"
   ]
  },
  {
   "cell_type": "code",
   "execution_count": 11,
   "id": "1bd0aefc",
   "metadata": {
    "execution": {
     "iopub.execute_input": "2024-11-15T16:20:16.995163Z",
     "iopub.status.busy": "2024-11-15T16:20:16.994732Z",
     "iopub.status.idle": "2024-11-15T16:20:17.003510Z",
     "shell.execute_reply": "2024-11-15T16:20:17.002416Z"
    },
    "papermill": {
     "duration": 0.020481,
     "end_time": "2024-11-15T16:20:17.006002",
     "exception": false,
     "start_time": "2024-11-15T16:20:16.985521",
     "status": "completed"
    },
    "tags": []
   },
   "outputs": [
    {
     "data": {
      "text/plain": [
       "array(['Medium', nan, 'High', 'Small'], dtype=object)"
      ]
     },
     "execution_count": 11,
     "metadata": {},
     "output_type": "execute_result"
    }
   ],
   "source": [
    "# getting the outlet size categories\n",
    "\n",
    "df[\"OutletSize\"].unique()"
   ]
  },
  {
   "cell_type": "code",
   "execution_count": 12,
   "id": "bde161af",
   "metadata": {
    "execution": {
     "iopub.execute_input": "2024-11-15T16:20:17.024492Z",
     "iopub.status.busy": "2024-11-15T16:20:17.023636Z",
     "iopub.status.idle": "2024-11-15T16:20:17.033090Z",
     "shell.execute_reply": "2024-11-15T16:20:17.032067Z"
    },
    "papermill": {
     "duration": 0.021465,
     "end_time": "2024-11-15T16:20:17.035805",
     "exception": false,
     "start_time": "2024-11-15T16:20:17.014340",
     "status": "completed"
    },
    "tags": []
   },
   "outputs": [
    {
     "data": {
      "text/plain": [
       "0    Medium\n",
       "Name: OutletSize, dtype: object"
      ]
     },
     "execution_count": 12,
     "metadata": {},
     "output_type": "execute_result"
    }
   ],
   "source": [
    "# as the outlet size is category , getting the mode of the outlet size\n",
    "\n",
    "df['OutletSize'].mode()"
   ]
  },
  {
   "cell_type": "code",
   "execution_count": 13,
   "id": "c05dbdda",
   "metadata": {
    "execution": {
     "iopub.execute_input": "2024-11-15T16:20:17.054461Z",
     "iopub.status.busy": "2024-11-15T16:20:17.053604Z",
     "iopub.status.idle": "2024-11-15T16:20:17.062294Z",
     "shell.execute_reply": "2024-11-15T16:20:17.061163Z"
    },
    "papermill": {
     "duration": 0.020735,
     "end_time": "2024-11-15T16:20:17.064732",
     "exception": false,
     "start_time": "2024-11-15T16:20:17.043997",
     "status": "completed"
    },
    "tags": []
   },
   "outputs": [],
   "source": [
    "# filling the missing outletsize column with mode value\n",
    "\n",
    "df['OutletSize'] = df['OutletSize'].fillna(df['OutletSize'].mode()[0])"
   ]
  },
  {
   "cell_type": "code",
   "execution_count": 14,
   "id": "ab178a2b",
   "metadata": {
    "execution": {
     "iopub.execute_input": "2024-11-15T16:20:17.083239Z",
     "iopub.status.busy": "2024-11-15T16:20:17.082796Z",
     "iopub.status.idle": "2024-11-15T16:20:17.102761Z",
     "shell.execute_reply": "2024-11-15T16:20:17.101075Z"
    },
    "papermill": {
     "duration": 0.032301,
     "end_time": "2024-11-15T16:20:17.105400",
     "exception": false,
     "start_time": "2024-11-15T16:20:17.073099",
     "status": "completed"
    },
    "tags": []
   },
   "outputs": [
    {
     "data": {
      "text/plain": [
       "ProductID            0.0\n",
       "Weight               0.0\n",
       "FatContent           0.0\n",
       "ProductVisibility    0.0\n",
       "ProductType          0.0\n",
       "MRP                  0.0\n",
       "OutletID             0.0\n",
       "EstablishmentYear    0.0\n",
       "OutletSize           0.0\n",
       "LocationType         0.0\n",
       "OutletType           0.0\n",
       "OutletSales          0.0\n",
       "dtype: float64"
      ]
     },
     "execution_count": 14,
     "metadata": {},
     "output_type": "execute_result"
    }
   ],
   "source": [
    "# checking if the nulls are updated\n",
    "\n",
    "df.isnull().mean()*100"
   ]
  },
  {
   "cell_type": "markdown",
   "id": "bfdda09b",
   "metadata": {
    "papermill": {
     "duration": 0.008571,
     "end_time": "2024-11-15T16:20:17.122735",
     "exception": false,
     "start_time": "2024-11-15T16:20:17.114164",
     "status": "completed"
    },
    "tags": []
   },
   "source": [
    "## Handeling the outliers"
   ]
  },
  {
   "cell_type": "code",
   "execution_count": 15,
   "id": "18cf2f75",
   "metadata": {
    "execution": {
     "iopub.execute_input": "2024-11-15T16:20:17.141845Z",
     "iopub.status.busy": "2024-11-15T16:20:17.141381Z",
     "iopub.status.idle": "2024-11-15T16:20:17.832698Z",
     "shell.execute_reply": "2024-11-15T16:20:17.831651Z"
    },
    "papermill": {
     "duration": 0.704418,
     "end_time": "2024-11-15T16:20:17.835658",
     "exception": false,
     "start_time": "2024-11-15T16:20:17.131240",
     "status": "completed"
    },
    "tags": []
   },
   "outputs": [
    {
     "data": {
      "image/png": "[encoded data removed]",
      "text/plain": [
       "<Figure size 1200x800 with 4 Axes>"
      ]
     },
     "metadata": {},
     "output_type": "display_data"
    }
   ],
   "source": [
    "# checking for outliers\n",
    "\n",
    "# List of numeric columns to visualize\n",
    "numeric_cols = ['Weight', 'ProductVisibility', 'MRP', 'OutletSales']\n",
    "\n",
    "# Plotting boxplots for each numeric column\n",
    "plt.figure(figsize=(12, 8))\n",
    "for i, column in enumerate(numeric_cols, 1):\n",
    "    plt.subplot(2, 2, i)  # Create a 2x2 subplot grid\n",
    "    sns.boxplot(x=df[column])\n",
    "    plt.title(f'Boxplot of {column}')\n",
    "    plt.xlabel(column)\n",
    "plt.tight_layout()\n",
    "plt.show()"
   ]
  },
  {
   "cell_type": "code",
   "execution_count": null,
   "id": "a6514732",
   "metadata": {
    "papermill": {
     "duration": 0.008645,
     "end_time": "2024-11-15T16:20:17.853487",
     "exception": false,
     "start_time": "2024-11-15T16:20:17.844842",
     "status": "completed"
    },
    "tags": []
   },
   "outputs": [],
   "source": []
  }
 ],
 "metadata": {
  "kaggle": {
   "accelerator": "none",
   "dataSources": [
    {
     "datasetId": 1593544,
     "sourceId": 2621633,
     "sourceType": "datasetVersion"
    }
   ],
   "dockerImageVersionId": 30786,
   "isGpuEnabled": false,
   "isInternetEnabled": true,
   "language": "python",
   "sourceType": "notebook"
  },
  "kernelspec": {
   "display_name": "Python 3",
   "language": "python",
   "name": "python3"
  },
  "language_info": {
   "codemirror_mode": {
    "name": "ipython",
    "version": 3
   },
   "file_extension": ".py",
   "mimetype": "text/x-python",
   "name": "python",
   "nbconvert_exporter": "python",
   "pygments_lexer": "ipython3",
   "version": "3.10.14"
  },
  "papermill": {
   "default_parameters": {},
   "duration": 8.567931,
   "end_time": "2024-11-15T16:20:18.583387",
   "environment_variables": {},
   "exception": null,
   "input_path": "__notebook__.ipynb",
   "output_path": "__notebook__.ipynb",
   "parameters": {},
   "start_time": "2024-11-15T16:20:10.015456",
   "version": "2.6.0"
  }
 },
 "nbformat": 4,
 "nbformat_minor": 5
}
