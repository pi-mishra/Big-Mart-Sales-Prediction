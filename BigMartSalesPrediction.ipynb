{
 "cells": [
  {
   "cell_type": "code",
   "execution_count": 1,
   "id": "9313fd86",
   "metadata": {
    "_cell_guid": "b1076dfc-b9ad-4769-8c92-a6c4dae69d19",
    "_uuid": "8f2839f25d086af736a60e9eeb907d3b93b6e0e5",
    "execution": {
     "iopub.execute_input": "2024-11-18T04:00:23.637432Z",
     "iopub.status.busy": "2024-11-18T04:00:23.636988Z",
     "iopub.status.idle": "2024-11-18T04:00:26.217202Z",
     "shell.execute_reply": "2024-11-18T04:00:26.215602Z"
    },
    "papermill": {
     "duration": 2.591624,
     "end_time": "2024-11-18T04:00:26.220124",
     "exception": false,
     "start_time": "2024-11-18T04:00:23.628500",
     "status": "completed"
    },
    "tags": []
   },
   "outputs": [
    {
     "name": "stdout",
     "output_type": "stream",
     "text": [
      "/kaggle/input/big-mart-sales/Test-Set.csv\n",
      "/kaggle/input/big-mart-sales/Train-Set.csv\n"
     ]
    }
   ],
   "source": [
    "#importing packages\n",
    "\n",
    "import numpy as np # linear algebra\n",
    "import pandas as pd # data processing, CSV file I/O (e.g. pd.read_csv)\n",
    "import matplotlib.pyplot as plt\n",
    "import seaborn as sns\n",
    "\n",
    "import warnings\n",
    "warnings.filterwarnings(\"ignore\")\n",
    "\n",
    "import os\n",
    "for dirname, _, filenames in os.walk('/kaggle/input'):\n",
    "    for filename in filenames:\n",
    "        print(os.path.join(dirname, filename))"
   ]
  },
  {
   "cell_type": "code",
   "execution_count": 2,
   "id": "787178cf",
   "metadata": {
    "execution": {
     "iopub.execute_input": "2024-11-18T04:00:26.235285Z",
     "iopub.status.busy": "2024-11-18T04:00:26.234707Z",
     "iopub.status.idle": "2024-11-18T04:00:26.281947Z",
     "shell.execute_reply": "2024-11-18T04:00:26.280342Z"
    },
    "papermill": {
     "duration": 0.057699,
     "end_time": "2024-11-18T04:00:26.284662",
     "exception": false,
     "start_time": "2024-11-18T04:00:26.226963",
     "status": "completed"
    },
    "tags": []
   },
   "outputs": [],
   "source": [
    "df = pd.read_csv(\"/kaggle/input/big-mart-sales/Train-Set.csv\")"
   ]
  },
  {
   "cell_type": "markdown",
   "id": "59b64621",
   "metadata": {
    "papermill": {
     "duration": 0.006068,
     "end_time": "2024-11-18T04:00:26.297119",
     "exception": false,
     "start_time": "2024-11-18T04:00:26.291051",
     "status": "completed"
    },
    "tags": []
   },
   "source": [
    "## Getting the overview"
   ]
  },
  {
   "cell_type": "code",
   "execution_count": 3,
   "id": "abf387b9",
   "metadata": {
    "execution": {
     "iopub.execute_input": "2024-11-18T04:00:26.311867Z",
     "iopub.status.busy": "2024-11-18T04:00:26.311156Z",
     "iopub.status.idle": "2024-11-18T04:00:26.338020Z",
     "shell.execute_reply": "2024-11-18T04:00:26.336946Z"
    },
    "papermill": {
     "duration": 0.037176,
     "end_time": "2024-11-18T04:00:26.340565",
     "exception": false,
     "start_time": "2024-11-18T04:00:26.303389",
     "status": "completed"
    },
    "tags": []
   },
   "outputs": [
    {
     "data": {
      "text/html": [
       "<div>\n",
       "<style scoped>\n",
       "    .dataframe tbody tr th:only-of-type {\n",
       "        vertical-align: middle;\n",
       "    }\n",
       "\n",
       "    .dataframe tbody tr th {\n",
       "        vertical-align: top;\n",
       "    }\n",
       "\n",
       "    .dataframe thead th {\n",
       "        text-align: right;\n",
       "    }\n",
       "</style>\n",
       "<table border=\"1\" class=\"dataframe\">\n",
       "  <thead>\n",
       "    <tr style=\"text-align: right;\">\n",
       "      <th></th>\n",
       "      <th>ProductID</th>\n",
       "      <th>Weight</th>\n",
       "      <th>FatContent</th>\n",
       "      <th>ProductVisibility</th>\n",
       "      <th>ProductType</th>\n",
       "      <th>MRP</th>\n",
       "      <th>OutletID</th>\n",
       "      <th>EstablishmentYear</th>\n",
       "      <th>OutletSize</th>\n",
       "      <th>LocationType</th>\n",
       "      <th>OutletType</th>\n",
       "      <th>OutletSales</th>\n",
       "    </tr>\n",
       "  </thead>\n",
       "  <tbody>\n",
       "    <tr>\n",
       "      <th>0</th>\n",
       "      <td>FDA15</td>\n",
       "      <td>9.30</td>\n",
       "      <td>Low Fat</td>\n",
       "      <td>0.016047</td>\n",
       "      <td>Dairy</td>\n",
       "      <td>249.8092</td>\n",
       "      <td>OUT049</td>\n",
       "      <td>1999</td>\n",
       "      <td>Medium</td>\n",
       "      <td>Tier 1</td>\n",
       "      <td>Supermarket Type1</td>\n",
       "      <td>3735.1380</td>\n",
       "    </tr>\n",
       "    <tr>\n",
       "      <th>1</th>\n",
       "      <td>DRC01</td>\n",
       "      <td>5.92</td>\n",
       "      <td>Regular</td>\n",
       "      <td>0.019278</td>\n",
       "      <td>Soft Drinks</td>\n",
       "      <td>48.2692</td>\n",
       "      <td>OUT018</td>\n",
       "      <td>2009</td>\n",
       "      <td>Medium</td>\n",
       "      <td>Tier 3</td>\n",
       "      <td>Supermarket Type2</td>\n",
       "      <td>443.4228</td>\n",
       "    </tr>\n",
       "    <tr>\n",
       "      <th>2</th>\n",
       "      <td>FDN15</td>\n",
       "      <td>17.50</td>\n",
       "      <td>Low Fat</td>\n",
       "      <td>0.016760</td>\n",
       "      <td>Meat</td>\n",
       "      <td>141.6180</td>\n",
       "      <td>OUT049</td>\n",
       "      <td>1999</td>\n",
       "      <td>Medium</td>\n",
       "      <td>Tier 1</td>\n",
       "      <td>Supermarket Type1</td>\n",
       "      <td>2097.2700</td>\n",
       "    </tr>\n",
       "    <tr>\n",
       "      <th>3</th>\n",
       "      <td>FDX07</td>\n",
       "      <td>19.20</td>\n",
       "      <td>Regular</td>\n",
       "      <td>0.000000</td>\n",
       "      <td>Fruits and Vegetables</td>\n",
       "      <td>182.0950</td>\n",
       "      <td>OUT010</td>\n",
       "      <td>1998</td>\n",
       "      <td>NaN</td>\n",
       "      <td>Tier 3</td>\n",
       "      <td>Grocery Store</td>\n",
       "      <td>732.3800</td>\n",
       "    </tr>\n",
       "    <tr>\n",
       "      <th>4</th>\n",
       "      <td>NCD19</td>\n",
       "      <td>8.93</td>\n",
       "      <td>Low Fat</td>\n",
       "      <td>0.000000</td>\n",
       "      <td>Household</td>\n",
       "      <td>53.8614</td>\n",
       "      <td>OUT013</td>\n",
       "      <td>1987</td>\n",
       "      <td>High</td>\n",
       "      <td>Tier 3</td>\n",
       "      <td>Supermarket Type1</td>\n",
       "      <td>994.7052</td>\n",
       "    </tr>\n",
       "  </tbody>\n",
       "</table>\n",
       "</div>"
      ],
      "text/plain": [
       "  ProductID  Weight FatContent  ProductVisibility            ProductType  \\\n",
       "0     FDA15    9.30    Low Fat           0.016047                  Dairy   \n",
       "1     DRC01    5.92    Regular           0.019278            Soft Drinks   \n",
       "2     FDN15   17.50    Low Fat           0.016760                   Meat   \n",
       "3     FDX07   19.20    Regular           0.000000  Fruits and Vegetables   \n",
       "4     NCD19    8.93    Low Fat           0.000000              Household   \n",
       "\n",
       "        MRP OutletID  EstablishmentYear OutletSize LocationType  \\\n",
       "0  249.8092   OUT049               1999     Medium       Tier 1   \n",
       "1   48.2692   OUT018               2009     Medium       Tier 3   \n",
       "2  141.6180   OUT049               1999     Medium       Tier 1   \n",
       "3  182.0950   OUT010               1998        NaN       Tier 3   \n",
       "4   53.8614   OUT013               1987       High       Tier 3   \n",
       "\n",
       "          OutletType  OutletSales  \n",
       "0  Supermarket Type1    3735.1380  \n",
       "1  Supermarket Type2     443.4228  \n",
       "2  Supermarket Type1    2097.2700  \n",
       "3      Grocery Store     732.3800  \n",
       "4  Supermarket Type1     994.7052  "
      ]
     },
     "execution_count": 3,
     "metadata": {},
     "output_type": "execute_result"
    }
   ],
   "source": [
    "# getting the first 5 rows\n",
    "\n",
    "df.head()"
   ]
  },
  {
   "cell_type": "code",
   "execution_count": 4,
   "id": "f3fcf715",
   "metadata": {
    "execution": {
     "iopub.execute_input": "2024-11-18T04:00:26.357879Z",
     "iopub.status.busy": "2024-11-18T04:00:26.356908Z",
     "iopub.status.idle": "2024-11-18T04:00:26.363550Z",
     "shell.execute_reply": "2024-11-18T04:00:26.362512Z"
    },
    "papermill": {
     "duration": 0.018402,
     "end_time": "2024-11-18T04:00:26.365824",
     "exception": false,
     "start_time": "2024-11-18T04:00:26.347422",
     "status": "completed"
    },
    "tags": []
   },
   "outputs": [
    {
     "data": {
      "text/plain": [
       "(8523, 12)"
      ]
     },
     "execution_count": 4,
     "metadata": {},
     "output_type": "execute_result"
    }
   ],
   "source": [
    "# shape of the data\n",
    "\n",
    "df.shape"
   ]
  },
  {
   "cell_type": "code",
   "execution_count": 5,
   "id": "427d61ac",
   "metadata": {
    "execution": {
     "iopub.execute_input": "2024-11-18T04:00:26.381908Z",
     "iopub.status.busy": "2024-11-18T04:00:26.381511Z",
     "iopub.status.idle": "2024-11-18T04:00:26.413233Z",
     "shell.execute_reply": "2024-11-18T04:00:26.411911Z"
    },
    "papermill": {
     "duration": 0.042185,
     "end_time": "2024-11-18T04:00:26.415714",
     "exception": false,
     "start_time": "2024-11-18T04:00:26.373529",
     "status": "completed"
    },
    "tags": []
   },
   "outputs": [
    {
     "name": "stdout",
     "output_type": "stream",
     "text": [
      "<class 'pandas.core.frame.DataFrame'>\n",
      "RangeIndex: 8523 entries, 0 to 8522\n",
      "Data columns (total 12 columns):\n",
      " #   Column             Non-Null Count  Dtype  \n",
      "---  ------             --------------  -----  \n",
      " 0   ProductID          8523 non-null   object \n",
      " 1   Weight             7060 non-null   float64\n",
      " 2   FatContent         8523 non-null   object \n",
      " 3   ProductVisibility  8523 non-null   float64\n",
      " 4   ProductType        8523 non-null   object \n",
      " 5   MRP                8523 non-null   float64\n",
      " 6   OutletID           8523 non-null   object \n",
      " 7   EstablishmentYear  8523 non-null   int64  \n",
      " 8   OutletSize         6113 non-null   object \n",
      " 9   LocationType       8523 non-null   object \n",
      " 10  OutletType         8523 non-null   object \n",
      " 11  OutletSales        8523 non-null   float64\n",
      "dtypes: float64(4), int64(1), object(7)\n",
      "memory usage: 799.2+ KB\n"
     ]
    }
   ],
   "source": [
    "# getting the overview \n",
    "\n",
    "df.info()"
   ]
  },
  {
   "cell_type": "code",
   "execution_count": 6,
   "id": "74ecc656",
   "metadata": {
    "execution": {
     "iopub.execute_input": "2024-11-18T04:00:26.431131Z",
     "iopub.status.busy": "2024-11-18T04:00:26.430744Z",
     "iopub.status.idle": "2024-11-18T04:00:26.438891Z",
     "shell.execute_reply": "2024-11-18T04:00:26.437889Z"
    },
    "papermill": {
     "duration": 0.018561,
     "end_time": "2024-11-18T04:00:26.441230",
     "exception": false,
     "start_time": "2024-11-18T04:00:26.422669",
     "status": "completed"
    },
    "tags": []
   },
   "outputs": [
    {
     "name": "stdout",
     "output_type": "stream",
     "text": [
      "Categorical Columns: ['ProductID', 'FatContent', 'ProductType', 'OutletID', 'OutletSize', 'LocationType', 'OutletType']\n",
      "Numerical Columns: ['Weight', 'ProductVisibility', 'MRP', 'EstablishmentYear', 'OutletSales']\n"
     ]
    }
   ],
   "source": [
    "# Get categorical columns\n",
    "categorical_columns = df.select_dtypes(include=['object', 'category']).columns.tolist()\n",
    "\n",
    "# Get numerical columns\n",
    "numerical_columns = df.select_dtypes(include=['int64', 'float64']).columns.tolist()\n",
    "\n",
    "print(\"Categorical Columns:\", categorical_columns)\n",
    "print(\"Numerical Columns:\", numerical_columns)"
   ]
  },
  {
   "cell_type": "code",
   "execution_count": 7,
   "id": "d361e877",
   "metadata": {
    "execution": {
     "iopub.execute_input": "2024-11-18T04:00:26.457217Z",
     "iopub.status.busy": "2024-11-18T04:00:26.456395Z",
     "iopub.status.idle": "2024-11-18T04:00:26.473955Z",
     "shell.execute_reply": "2024-11-18T04:00:26.472191Z"
    },
    "papermill": {
     "duration": 0.028607,
     "end_time": "2024-11-18T04:00:26.476810",
     "exception": false,
     "start_time": "2024-11-18T04:00:26.448203",
     "status": "completed"
    },
    "tags": []
   },
   "outputs": [
    {
     "data": {
      "text/plain": [
       "0"
      ]
     },
     "execution_count": 7,
     "metadata": {},
     "output_type": "execute_result"
    }
   ],
   "source": [
    "# checking duplicate values\n",
    "\n",
    "df.duplicated().sum()"
   ]
  },
  {
   "cell_type": "code",
   "execution_count": 8,
   "id": "6ada28ab",
   "metadata": {
    "execution": {
     "iopub.execute_input": "2024-11-18T04:00:26.492880Z",
     "iopub.status.busy": "2024-11-18T04:00:26.492488Z",
     "iopub.status.idle": "2024-11-18T04:00:26.505864Z",
     "shell.execute_reply": "2024-11-18T04:00:26.504745Z"
    },
    "papermill": {
     "duration": 0.024057,
     "end_time": "2024-11-18T04:00:26.508140",
     "exception": false,
     "start_time": "2024-11-18T04:00:26.484083",
     "status": "completed"
    },
    "tags": []
   },
   "outputs": [
    {
     "data": {
      "text/plain": [
       "ProductID             0.000000\n",
       "Weight               17.165317\n",
       "FatContent            0.000000\n",
       "ProductVisibility     0.000000\n",
       "ProductType           0.000000\n",
       "MRP                   0.000000\n",
       "OutletID              0.000000\n",
       "EstablishmentYear     0.000000\n",
       "OutletSize           28.276428\n",
       "LocationType          0.000000\n",
       "OutletType            0.000000\n",
       "OutletSales           0.000000\n",
       "dtype: float64"
      ]
     },
     "execution_count": 8,
     "metadata": {},
     "output_type": "execute_result"
    }
   ],
   "source": [
    "# getting the percentage of null data\n",
    "\n",
    "df.isnull().mean()*100"
   ]
  },
  {
   "cell_type": "markdown",
   "id": "e6f43921",
   "metadata": {
    "papermill": {
     "duration": 0.006859,
     "end_time": "2024-11-18T04:00:26.522145",
     "exception": false,
     "start_time": "2024-11-18T04:00:26.515286",
     "status": "completed"
    },
    "tags": []
   },
   "source": [
    "## Handeling the null values"
   ]
  },
  {
   "cell_type": "code",
   "execution_count": 9,
   "id": "2a6f8580",
   "metadata": {
    "execution": {
     "iopub.execute_input": "2024-11-18T04:00:26.537978Z",
     "iopub.status.busy": "2024-11-18T04:00:26.537605Z",
     "iopub.status.idle": "2024-11-18T04:00:26.544828Z",
     "shell.execute_reply": "2024-11-18T04:00:26.543790Z"
    },
    "papermill": {
     "duration": 0.017847,
     "end_time": "2024-11-18T04:00:26.547119",
     "exception": false,
     "start_time": "2024-11-18T04:00:26.529272",
     "status": "completed"
    },
    "tags": []
   },
   "outputs": [
    {
     "data": {
      "text/plain": [
       "12.857645184135976"
      ]
     },
     "execution_count": 9,
     "metadata": {},
     "output_type": "execute_result"
    }
   ],
   "source": [
    "# weight is numerical so we can checking its mean\n",
    "\n",
    "df['Weight'].mean()"
   ]
  },
  {
   "cell_type": "code",
   "execution_count": 10,
   "id": "8f638c89",
   "metadata": {
    "execution": {
     "iopub.execute_input": "2024-11-18T04:00:26.563487Z",
     "iopub.status.busy": "2024-11-18T04:00:26.563074Z",
     "iopub.status.idle": "2024-11-18T04:00:26.569074Z",
     "shell.execute_reply": "2024-11-18T04:00:26.568206Z"
    },
    "papermill": {
     "duration": 0.016646,
     "end_time": "2024-11-18T04:00:26.571107",
     "exception": false,
     "start_time": "2024-11-18T04:00:26.554461",
     "status": "completed"
    },
    "tags": []
   },
   "outputs": [],
   "source": [
    "# filling the missing weight column with mean value\n",
    "\n",
    "df['Weight'] = df['Weight'].fillna(df['Weight'].mean())"
   ]
  },
  {
   "cell_type": "code",
   "execution_count": 11,
   "id": "a5a52842",
   "metadata": {
    "execution": {
     "iopub.execute_input": "2024-11-18T04:00:26.587141Z",
     "iopub.status.busy": "2024-11-18T04:00:26.586733Z",
     "iopub.status.idle": "2024-11-18T04:00:26.594077Z",
     "shell.execute_reply": "2024-11-18T04:00:26.593032Z"
    },
    "papermill": {
     "duration": 0.017898,
     "end_time": "2024-11-18T04:00:26.596286",
     "exception": false,
     "start_time": "2024-11-18T04:00:26.578388",
     "status": "completed"
    },
    "tags": []
   },
   "outputs": [
    {
     "data": {
      "text/plain": [
       "array(['Medium', nan, 'High', 'Small'], dtype=object)"
      ]
     },
     "execution_count": 11,
     "metadata": {},
     "output_type": "execute_result"
    }
   ],
   "source": [
    "# getting the outlet size categories\n",
    "\n",
    "df[\"OutletSize\"].unique()"
   ]
  },
  {
   "cell_type": "code",
   "execution_count": 12,
   "id": "b7a24f62",
   "metadata": {
    "execution": {
     "iopub.execute_input": "2024-11-18T04:00:26.613133Z",
     "iopub.status.busy": "2024-11-18T04:00:26.612729Z",
     "iopub.status.idle": "2024-11-18T04:00:26.621065Z",
     "shell.execute_reply": "2024-11-18T04:00:26.620080Z"
    },
    "papermill": {
     "duration": 0.01978,
     "end_time": "2024-11-18T04:00:26.623375",
     "exception": false,
     "start_time": "2024-11-18T04:00:26.603595",
     "status": "completed"
    },
    "tags": []
   },
   "outputs": [
    {
     "data": {
      "text/plain": [
       "0    Medium\n",
       "Name: OutletSize, dtype: object"
      ]
     },
     "execution_count": 12,
     "metadata": {},
     "output_type": "execute_result"
    }
   ],
   "source": [
    "# as the outlet size is category , getting the mode of the outlet size\n",
    "\n",
    "df['OutletSize'].mode()"
   ]
  },
  {
   "cell_type": "code",
   "execution_count": 13,
   "id": "1b62b2e7",
   "metadata": {
    "execution": {
     "iopub.execute_input": "2024-11-18T04:00:26.640384Z",
     "iopub.status.busy": "2024-11-18T04:00:26.639280Z",
     "iopub.status.idle": "2024-11-18T04:00:26.646825Z",
     "shell.execute_reply": "2024-11-18T04:00:26.645866Z"
    },
    "papermill": {
     "duration": 0.018364,
     "end_time": "2024-11-18T04:00:26.649092",
     "exception": false,
     "start_time": "2024-11-18T04:00:26.630728",
     "status": "completed"
    },
    "tags": []
   },
   "outputs": [],
   "source": [
    "# filling the missing outletsize column with mode value\n",
    "\n",
    "df['OutletSize'] = df['OutletSize'].fillna(df['OutletSize'].mode()[0])"
   ]
  },
  {
   "cell_type": "code",
   "execution_count": 14,
   "id": "f6c024db",
   "metadata": {
    "execution": {
     "iopub.execute_input": "2024-11-18T04:00:26.665879Z",
     "iopub.status.busy": "2024-11-18T04:00:26.665489Z",
     "iopub.status.idle": "2024-11-18T04:00:26.679466Z",
     "shell.execute_reply": "2024-11-18T04:00:26.678315Z"
    },
    "papermill": {
     "duration": 0.025165,
     "end_time": "2024-11-18T04:00:26.681863",
     "exception": false,
     "start_time": "2024-11-18T04:00:26.656698",
     "status": "completed"
    },
    "tags": []
   },
   "outputs": [
    {
     "data": {
      "text/plain": [
       "ProductID            0.0\n",
       "Weight               0.0\n",
       "FatContent           0.0\n",
       "ProductVisibility    0.0\n",
       "ProductType          0.0\n",
       "MRP                  0.0\n",
       "OutletID             0.0\n",
       "EstablishmentYear    0.0\n",
       "OutletSize           0.0\n",
       "LocationType         0.0\n",
       "OutletType           0.0\n",
       "OutletSales          0.0\n",
       "dtype: float64"
      ]
     },
     "execution_count": 14,
     "metadata": {},
     "output_type": "execute_result"
    }
   ],
   "source": [
    "# checking if the nulls are updated\n",
    "\n",
    "df.isnull().mean()*100"
   ]
  },
  {
   "cell_type": "markdown",
   "id": "86b5b63d",
   "metadata": {
    "papermill": {
     "duration": 0.007772,
     "end_time": "2024-11-18T04:00:26.697367",
     "exception": false,
     "start_time": "2024-11-18T04:00:26.689595",
     "status": "completed"
    },
    "tags": []
   },
   "source": [
    "## Handeling the outliers"
   ]
  },
  {
   "cell_type": "code",
   "execution_count": 15,
   "id": "ace97dd1",
   "metadata": {
    "execution": {
     "iopub.execute_input": "2024-11-18T04:00:26.714629Z",
     "iopub.status.busy": "2024-11-18T04:00:26.713903Z",
     "iopub.status.idle": "2024-11-18T04:00:26.742328Z",
     "shell.execute_reply": "2024-11-18T04:00:26.741227Z"
    },
    "papermill": {
     "duration": 0.039763,
     "end_time": "2024-11-18T04:00:26.744852",
     "exception": false,
     "start_time": "2024-11-18T04:00:26.705089",
     "status": "completed"
    },
    "tags": []
   },
   "outputs": [
    {
     "data": {
      "text/html": [
       "<div>\n",
       "<style scoped>\n",
       "    .dataframe tbody tr th:only-of-type {\n",
       "        vertical-align: middle;\n",
       "    }\n",
       "\n",
       "    .dataframe tbody tr th {\n",
       "        vertical-align: top;\n",
       "    }\n",
       "\n",
       "    .dataframe thead th {\n",
       "        text-align: right;\n",
       "    }\n",
       "</style>\n",
       "<table border=\"1\" class=\"dataframe\">\n",
       "  <thead>\n",
       "    <tr style=\"text-align: right;\">\n",
       "      <th></th>\n",
       "      <th>Weight</th>\n",
       "      <th>ProductVisibility</th>\n",
       "      <th>MRP</th>\n",
       "      <th>EstablishmentYear</th>\n",
       "      <th>OutletSales</th>\n",
       "    </tr>\n",
       "  </thead>\n",
       "  <tbody>\n",
       "    <tr>\n",
       "      <th>count</th>\n",
       "      <td>8523.000000</td>\n",
       "      <td>8523.000000</td>\n",
       "      <td>8523.000000</td>\n",
       "      <td>8523.000000</td>\n",
       "      <td>8523.000000</td>\n",
       "    </tr>\n",
       "    <tr>\n",
       "      <th>mean</th>\n",
       "      <td>12.857645</td>\n",
       "      <td>0.066132</td>\n",
       "      <td>140.992782</td>\n",
       "      <td>1997.831867</td>\n",
       "      <td>2181.288914</td>\n",
       "    </tr>\n",
       "    <tr>\n",
       "      <th>std</th>\n",
       "      <td>4.226124</td>\n",
       "      <td>0.051598</td>\n",
       "      <td>62.275067</td>\n",
       "      <td>8.371760</td>\n",
       "      <td>1706.499616</td>\n",
       "    </tr>\n",
       "    <tr>\n",
       "      <th>min</th>\n",
       "      <td>4.555000</td>\n",
       "      <td>0.000000</td>\n",
       "      <td>31.290000</td>\n",
       "      <td>1985.000000</td>\n",
       "      <td>33.290000</td>\n",
       "    </tr>\n",
       "    <tr>\n",
       "      <th>25%</th>\n",
       "      <td>9.310000</td>\n",
       "      <td>0.026989</td>\n",
       "      <td>93.826500</td>\n",
       "      <td>1987.000000</td>\n",
       "      <td>834.247400</td>\n",
       "    </tr>\n",
       "    <tr>\n",
       "      <th>50%</th>\n",
       "      <td>12.857645</td>\n",
       "      <td>0.053931</td>\n",
       "      <td>143.012800</td>\n",
       "      <td>1999.000000</td>\n",
       "      <td>1794.331000</td>\n",
       "    </tr>\n",
       "    <tr>\n",
       "      <th>75%</th>\n",
       "      <td>16.000000</td>\n",
       "      <td>0.094585</td>\n",
       "      <td>185.643700</td>\n",
       "      <td>2004.000000</td>\n",
       "      <td>3101.296400</td>\n",
       "    </tr>\n",
       "    <tr>\n",
       "      <th>max</th>\n",
       "      <td>21.350000</td>\n",
       "      <td>0.328391</td>\n",
       "      <td>266.888400</td>\n",
       "      <td>2009.000000</td>\n",
       "      <td>13086.964800</td>\n",
       "    </tr>\n",
       "  </tbody>\n",
       "</table>\n",
       "</div>"
      ],
      "text/plain": [
       "            Weight  ProductVisibility          MRP  EstablishmentYear  \\\n",
       "count  8523.000000        8523.000000  8523.000000        8523.000000   \n",
       "mean     12.857645           0.066132   140.992782        1997.831867   \n",
       "std       4.226124           0.051598    62.275067           8.371760   \n",
       "min       4.555000           0.000000    31.290000        1985.000000   \n",
       "25%       9.310000           0.026989    93.826500        1987.000000   \n",
       "50%      12.857645           0.053931   143.012800        1999.000000   \n",
       "75%      16.000000           0.094585   185.643700        2004.000000   \n",
       "max      21.350000           0.328391   266.888400        2009.000000   \n",
       "\n",
       "        OutletSales  \n",
       "count   8523.000000  \n",
       "mean    2181.288914  \n",
       "std     1706.499616  \n",
       "min       33.290000  \n",
       "25%      834.247400  \n",
       "50%     1794.331000  \n",
       "75%     3101.296400  \n",
       "max    13086.964800  "
      ]
     },
     "execution_count": 15,
     "metadata": {},
     "output_type": "execute_result"
    }
   ],
   "source": [
    "df.describe()"
   ]
  },
  {
   "cell_type": "code",
   "execution_count": 16,
   "id": "5c7797c5",
   "metadata": {
    "execution": {
     "iopub.execute_input": "2024-11-18T04:00:26.762354Z",
     "iopub.status.busy": "2024-11-18T04:00:26.761879Z",
     "iopub.status.idle": "2024-11-18T04:00:27.435141Z",
     "shell.execute_reply": "2024-11-18T04:00:27.433938Z"
    },
    "papermill": {
     "duration": 0.685276,
     "end_time": "2024-11-18T04:00:27.437907",
     "exception": false,
     "start_time": "2024-11-18T04:00:26.752631",
     "status": "completed"
    },
    "tags": []
   },
   "outputs": [
    {
     "data": {
      "image/png": "[encoded data removed]",
      "text/plain": [
       "<Figure size 1200x800 with 4 Axes>"
      ]
     },
     "metadata": {},
     "output_type": "display_data"
    }
   ],
   "source": [
    "# checking for outliers\n",
    "\n",
    "# List of numeric columns to visualize\n",
    "numeric_cols = ['Weight', 'ProductVisibility', 'MRP', 'OutletSales']\n",
    "\n",
    "# Plotting boxplots for each numeric column\n",
    "plt.figure(figsize=(12, 8))\n",
    "for i, column in enumerate(numeric_cols, 1):\n",
    "    plt.subplot(2, 2, i)  # Create a 2x2 subplot grid\n",
    "    sns.boxplot(x=df[column])\n",
    "    plt.title(f'Boxplot of {column}')\n",
    "    plt.xlabel(column)\n",
    "plt.tight_layout()\n",
    "plt.show()"
   ]
  },
  {
   "cell_type": "code",
   "execution_count": 17,
   "id": "93fede93",
   "metadata": {
    "execution": {
     "iopub.execute_input": "2024-11-18T04:00:27.457117Z",
     "iopub.status.busy": "2024-11-18T04:00:27.456335Z",
     "iopub.status.idle": "2024-11-18T04:00:27.464395Z",
     "shell.execute_reply": "2024-11-18T04:00:27.463323Z"
    },
    "papermill": {
     "duration": 0.020208,
     "end_time": "2024-11-18T04:00:27.466590",
     "exception": false,
     "start_time": "2024-11-18T04:00:27.446382",
     "status": "completed"
    },
    "tags": []
   },
   "outputs": [
    {
     "data": {
      "text/plain": [
       "1.1775306028542796"
      ]
     },
     "execution_count": 17,
     "metadata": {},
     "output_type": "execute_result"
    }
   ],
   "source": [
    "df['OutletSales'].skew()"
   ]
  },
  {
   "cell_type": "code",
   "execution_count": 18,
   "id": "997beb6e",
   "metadata": {
    "execution": {
     "iopub.execute_input": "2024-11-18T04:00:27.485396Z",
     "iopub.status.busy": "2024-11-18T04:00:27.484977Z",
     "iopub.status.idle": "2024-11-18T04:00:27.932609Z",
     "shell.execute_reply": "2024-11-18T04:00:27.931286Z"
    },
    "papermill": {
     "duration": 0.46046,
     "end_time": "2024-11-18T04:00:27.935807",
     "exception": false,
     "start_time": "2024-11-18T04:00:27.475347",
     "status": "completed"
    },
    "tags": []
   },
   "outputs": [
    {
     "data": {
      "image/png": "[encoded data removed]",
      "text/plain": [
       "<Figure size 640x480 with 1 Axes>"
      ]
     },
     "metadata": {},
     "output_type": "display_data"
    }
   ],
   "source": [
    "# Histogram and density plot\n",
    "sns.histplot(df['OutletSales'], kde=True)\n",
    "plt.title('Histogram with Density Plot')\n",
    "plt.show()"
   ]
  },
  {
   "cell_type": "code",
   "execution_count": 19,
   "id": "daa69fdc",
   "metadata": {
    "execution": {
     "iopub.execute_input": "2024-11-18T04:00:27.956770Z",
     "iopub.status.busy": "2024-11-18T04:00:27.956344Z",
     "iopub.status.idle": "2024-11-18T04:00:27.966734Z",
     "shell.execute_reply": "2024-11-18T04:00:27.965206Z"
    },
    "papermill": {
     "duration": 0.024494,
     "end_time": "2024-11-18T04:00:27.970175",
     "exception": false,
     "start_time": "2024-11-18T04:00:27.945681",
     "status": "completed"
    },
    "tags": []
   },
   "outputs": [
    {
     "name": "stdout",
     "output_type": "stream",
     "text": [
      "Q1: 834.2474, Q3: 3101.2964, IQR: 2267.049\n"
     ]
    }
   ],
   "source": [
    "# as the data is right skewed we are going to use iqr method to remove outliers\n",
    "\n",
    "Q1 = df['OutletSales'].quantile(0.25)  # 1st Quartile (25th percentile)\n",
    "Q3 = df['OutletSales'].quantile(0.75)  # 3rd Quartile (75th percentile)\n",
    "IQR = Q3 - Q1                     # Interquartile Range\n",
    "\n",
    "print(f\"Q1: {Q1}, Q3: {Q3}, IQR: {IQR}\")"
   ]
  },
  {
   "cell_type": "code",
   "execution_count": 20,
   "id": "e60043f3",
   "metadata": {
    "execution": {
     "iopub.execute_input": "2024-11-18T04:00:27.992593Z",
     "iopub.status.busy": "2024-11-18T04:00:27.991961Z",
     "iopub.status.idle": "2024-11-18T04:00:28.000037Z",
     "shell.execute_reply": "2024-11-18T04:00:27.998338Z"
    },
    "papermill": {
     "duration": 0.021434,
     "end_time": "2024-11-18T04:00:28.002960",
     "exception": false,
     "start_time": "2024-11-18T04:00:27.981526",
     "status": "completed"
    },
    "tags": []
   },
   "outputs": [
    {
     "name": "stdout",
     "output_type": "stream",
     "text": [
      "Upper limit = 6501.8699\n",
      "Lower limit = -2566.3261\n"
     ]
    }
   ],
   "source": [
    "upper_limit = Q3 + 1.5*IQR \n",
    "lower_limit = Q1 - 1.5*IQR\n",
    "\n",
    "print(f\"Upper limit = {upper_limit}\")\n",
    "print(f\"Lower limit = {lower_limit}\")"
   ]
  },
  {
   "cell_type": "code",
   "execution_count": 21,
   "id": "104b319e",
   "metadata": {
    "execution": {
     "iopub.execute_input": "2024-11-18T04:00:28.024320Z",
     "iopub.status.busy": "2024-11-18T04:00:28.023896Z",
     "iopub.status.idle": "2024-11-18T04:00:28.048326Z",
     "shell.execute_reply": "2024-11-18T04:00:28.047275Z"
    },
    "papermill": {
     "duration": 0.037337,
     "end_time": "2024-11-18T04:00:28.050730",
     "exception": false,
     "start_time": "2024-11-18T04:00:28.013393",
     "status": "completed"
    },
    "tags": []
   },
   "outputs": [
    {
     "data": {
      "text/html": [
       "<div>\n",
       "<style scoped>\n",
       "    .dataframe tbody tr th:only-of-type {\n",
       "        vertical-align: middle;\n",
       "    }\n",
       "\n",
       "    .dataframe tbody tr th {\n",
       "        vertical-align: top;\n",
       "    }\n",
       "\n",
       "    .dataframe thead th {\n",
       "        text-align: right;\n",
       "    }\n",
       "</style>\n",
       "<table border=\"1\" class=\"dataframe\">\n",
       "  <thead>\n",
       "    <tr style=\"text-align: right;\">\n",
       "      <th></th>\n",
       "      <th>ProductID</th>\n",
       "      <th>Weight</th>\n",
       "      <th>FatContent</th>\n",
       "      <th>ProductVisibility</th>\n",
       "      <th>ProductType</th>\n",
       "      <th>MRP</th>\n",
       "      <th>OutletID</th>\n",
       "      <th>EstablishmentYear</th>\n",
       "      <th>OutletSize</th>\n",
       "      <th>LocationType</th>\n",
       "      <th>OutletType</th>\n",
       "      <th>OutletSales</th>\n",
       "    </tr>\n",
       "  </thead>\n",
       "  <tbody>\n",
       "    <tr>\n",
       "      <th>43</th>\n",
       "      <td>FDC02</td>\n",
       "      <td>21.350000</td>\n",
       "      <td>Low Fat</td>\n",
       "      <td>0.069103</td>\n",
       "      <td>Canned</td>\n",
       "      <td>259.9278</td>\n",
       "      <td>OUT018</td>\n",
       "      <td>2009</td>\n",
       "      <td>Medium</td>\n",
       "      <td>Tier 3</td>\n",
       "      <td>Supermarket Type2</td>\n",
       "      <td>6768.5228</td>\n",
       "    </tr>\n",
       "    <tr>\n",
       "      <th>130</th>\n",
       "      <td>FDY25</td>\n",
       "      <td>12.857645</td>\n",
       "      <td>Low Fat</td>\n",
       "      <td>0.033810</td>\n",
       "      <td>Canned</td>\n",
       "      <td>180.5976</td>\n",
       "      <td>OUT027</td>\n",
       "      <td>1985</td>\n",
       "      <td>Medium</td>\n",
       "      <td>Tier 3</td>\n",
       "      <td>Supermarket Type3</td>\n",
       "      <td>7968.2944</td>\n",
       "    </tr>\n",
       "    <tr>\n",
       "      <th>132</th>\n",
       "      <td>NCR53</td>\n",
       "      <td>12.857645</td>\n",
       "      <td>Low Fat</td>\n",
       "      <td>0.144338</td>\n",
       "      <td>Health and Hygiene</td>\n",
       "      <td>224.4404</td>\n",
       "      <td>OUT027</td>\n",
       "      <td>1985</td>\n",
       "      <td>Medium</td>\n",
       "      <td>Tier 3</td>\n",
       "      <td>Supermarket Type3</td>\n",
       "      <td>6976.2524</td>\n",
       "    </tr>\n",
       "    <tr>\n",
       "      <th>145</th>\n",
       "      <td>FDP16</td>\n",
       "      <td>18.600000</td>\n",
       "      <td>Low Fat</td>\n",
       "      <td>0.039356</td>\n",
       "      <td>Frozen Foods</td>\n",
       "      <td>246.3802</td>\n",
       "      <td>OUT049</td>\n",
       "      <td>1999</td>\n",
       "      <td>Medium</td>\n",
       "      <td>Tier 1</td>\n",
       "      <td>Supermarket Type1</td>\n",
       "      <td>7370.4060</td>\n",
       "    </tr>\n",
       "    <tr>\n",
       "      <th>203</th>\n",
       "      <td>FDI24</td>\n",
       "      <td>12.857645</td>\n",
       "      <td>Low Fat</td>\n",
       "      <td>0.078362</td>\n",
       "      <td>Baking Goods</td>\n",
       "      <td>177.9370</td>\n",
       "      <td>OUT027</td>\n",
       "      <td>1985</td>\n",
       "      <td>Medium</td>\n",
       "      <td>Tier 3</td>\n",
       "      <td>Supermarket Type3</td>\n",
       "      <td>6704.6060</td>\n",
       "    </tr>\n",
       "    <tr>\n",
       "      <th>...</th>\n",
       "      <td>...</td>\n",
       "      <td>...</td>\n",
       "      <td>...</td>\n",
       "      <td>...</td>\n",
       "      <td>...</td>\n",
       "      <td>...</td>\n",
       "      <td>...</td>\n",
       "      <td>...</td>\n",
       "      <td>...</td>\n",
       "      <td>...</td>\n",
       "      <td>...</td>\n",
       "      <td>...</td>\n",
       "    </tr>\n",
       "    <tr>\n",
       "      <th>8245</th>\n",
       "      <td>FDU55</td>\n",
       "      <td>16.200000</td>\n",
       "      <td>Low Fat</td>\n",
       "      <td>0.035967</td>\n",
       "      <td>Fruits and Vegetables</td>\n",
       "      <td>260.3278</td>\n",
       "      <td>OUT049</td>\n",
       "      <td>1999</td>\n",
       "      <td>Medium</td>\n",
       "      <td>Tier 1</td>\n",
       "      <td>Supermarket Type1</td>\n",
       "      <td>7549.5062</td>\n",
       "    </tr>\n",
       "    <tr>\n",
       "      <th>8329</th>\n",
       "      <td>NCQ06</td>\n",
       "      <td>12.857645</td>\n",
       "      <td>Low Fat</td>\n",
       "      <td>0.041622</td>\n",
       "      <td>Household</td>\n",
       "      <td>253.6014</td>\n",
       "      <td>OUT027</td>\n",
       "      <td>1985</td>\n",
       "      <td>Medium</td>\n",
       "      <td>Tier 3</td>\n",
       "      <td>Supermarket Type3</td>\n",
       "      <td>6630.0364</td>\n",
       "    </tr>\n",
       "    <tr>\n",
       "      <th>8350</th>\n",
       "      <td>NCE18</td>\n",
       "      <td>10.000000</td>\n",
       "      <td>Low Fat</td>\n",
       "      <td>0.021421</td>\n",
       "      <td>Household</td>\n",
       "      <td>248.3750</td>\n",
       "      <td>OUT035</td>\n",
       "      <td>2004</td>\n",
       "      <td>Small</td>\n",
       "      <td>Tier 2</td>\n",
       "      <td>Supermarket Type1</td>\n",
       "      <td>7240.5750</td>\n",
       "    </tr>\n",
       "    <tr>\n",
       "      <th>8447</th>\n",
       "      <td>FDS26</td>\n",
       "      <td>20.350000</td>\n",
       "      <td>Low Fat</td>\n",
       "      <td>0.089975</td>\n",
       "      <td>Dairy</td>\n",
       "      <td>261.6594</td>\n",
       "      <td>OUT017</td>\n",
       "      <td>2007</td>\n",
       "      <td>Medium</td>\n",
       "      <td>Tier 2</td>\n",
       "      <td>Supermarket Type1</td>\n",
       "      <td>7588.1226</td>\n",
       "    </tr>\n",
       "    <tr>\n",
       "      <th>8510</th>\n",
       "      <td>FDN58</td>\n",
       "      <td>13.800000</td>\n",
       "      <td>Regular</td>\n",
       "      <td>0.056862</td>\n",
       "      <td>Snack Foods</td>\n",
       "      <td>231.5984</td>\n",
       "      <td>OUT035</td>\n",
       "      <td>2004</td>\n",
       "      <td>Small</td>\n",
       "      <td>Tier 2</td>\n",
       "      <td>Supermarket Type1</td>\n",
       "      <td>7182.6504</td>\n",
       "    </tr>\n",
       "  </tbody>\n",
       "</table>\n",
       "<p>186 rows × 12 columns</p>\n",
       "</div>"
      ],
      "text/plain": [
       "     ProductID     Weight FatContent  ProductVisibility  \\\n",
       "43       FDC02  21.350000    Low Fat           0.069103   \n",
       "130      FDY25  12.857645    Low Fat           0.033810   \n",
       "132      NCR53  12.857645    Low Fat           0.144338   \n",
       "145      FDP16  18.600000    Low Fat           0.039356   \n",
       "203      FDI24  12.857645    Low Fat           0.078362   \n",
       "...        ...        ...        ...                ...   \n",
       "8245     FDU55  16.200000    Low Fat           0.035967   \n",
       "8329     NCQ06  12.857645    Low Fat           0.041622   \n",
       "8350     NCE18  10.000000    Low Fat           0.021421   \n",
       "8447     FDS26  20.350000    Low Fat           0.089975   \n",
       "8510     FDN58  13.800000    Regular           0.056862   \n",
       "\n",
       "                ProductType       MRP OutletID  EstablishmentYear OutletSize  \\\n",
       "43                   Canned  259.9278   OUT018               2009     Medium   \n",
       "130                  Canned  180.5976   OUT027               1985     Medium   \n",
       "132      Health and Hygiene  224.4404   OUT027               1985     Medium   \n",
       "145            Frozen Foods  246.3802   OUT049               1999     Medium   \n",
       "203            Baking Goods  177.9370   OUT027               1985     Medium   \n",
       "...                     ...       ...      ...                ...        ...   \n",
       "8245  Fruits and Vegetables  260.3278   OUT049               1999     Medium   \n",
       "8329              Household  253.6014   OUT027               1985     Medium   \n",
       "8350              Household  248.3750   OUT035               2004      Small   \n",
       "8447                  Dairy  261.6594   OUT017               2007     Medium   \n",
       "8510            Snack Foods  231.5984   OUT035               2004      Small   \n",
       "\n",
       "     LocationType         OutletType  OutletSales  \n",
       "43         Tier 3  Supermarket Type2    6768.5228  \n",
       "130        Tier 3  Supermarket Type3    7968.2944  \n",
       "132        Tier 3  Supermarket Type3    6976.2524  \n",
       "145        Tier 1  Supermarket Type1    7370.4060  \n",
       "203        Tier 3  Supermarket Type3    6704.6060  \n",
       "...           ...                ...          ...  \n",
       "8245       Tier 1  Supermarket Type1    7549.5062  \n",
       "8329       Tier 3  Supermarket Type3    6630.0364  \n",
       "8350       Tier 2  Supermarket Type1    7240.5750  \n",
       "8447       Tier 2  Supermarket Type1    7588.1226  \n",
       "8510       Tier 2  Supermarket Type1    7182.6504  \n",
       "\n",
       "[186 rows x 12 columns]"
      ]
     },
     "execution_count": 21,
     "metadata": {},
     "output_type": "execute_result"
    }
   ],
   "source": [
    "df[df[\"OutletSales\"]>upper_limit]"
   ]
  },
  {
   "cell_type": "code",
   "execution_count": 22,
   "id": "55d68647",
   "metadata": {
    "execution": {
     "iopub.execute_input": "2024-11-18T04:00:28.072216Z",
     "iopub.status.busy": "2024-11-18T04:00:28.071465Z",
     "iopub.status.idle": "2024-11-18T04:00:28.083683Z",
     "shell.execute_reply": "2024-11-18T04:00:28.082571Z"
    },
    "papermill": {
     "duration": 0.025598,
     "end_time": "2024-11-18T04:00:28.086034",
     "exception": false,
     "start_time": "2024-11-18T04:00:28.060436",
     "status": "completed"
    },
    "tags": []
   },
   "outputs": [
    {
     "data": {
      "text/html": [
       "<div>\n",
       "<style scoped>\n",
       "    .dataframe tbody tr th:only-of-type {\n",
       "        vertical-align: middle;\n",
       "    }\n",
       "\n",
       "    .dataframe tbody tr th {\n",
       "        vertical-align: top;\n",
       "    }\n",
       "\n",
       "    .dataframe thead th {\n",
       "        text-align: right;\n",
       "    }\n",
       "</style>\n",
       "<table border=\"1\" class=\"dataframe\">\n",
       "  <thead>\n",
       "    <tr style=\"text-align: right;\">\n",
       "      <th></th>\n",
       "      <th>ProductID</th>\n",
       "      <th>Weight</th>\n",
       "      <th>FatContent</th>\n",
       "      <th>ProductVisibility</th>\n",
       "      <th>ProductType</th>\n",
       "      <th>MRP</th>\n",
       "      <th>OutletID</th>\n",
       "      <th>EstablishmentYear</th>\n",
       "      <th>OutletSize</th>\n",
       "      <th>LocationType</th>\n",
       "      <th>OutletType</th>\n",
       "      <th>OutletSales</th>\n",
       "    </tr>\n",
       "  </thead>\n",
       "  <tbody>\n",
       "  </tbody>\n",
       "</table>\n",
       "</div>"
      ],
      "text/plain": [
       "Empty DataFrame\n",
       "Columns: [ProductID, Weight, FatContent, ProductVisibility, ProductType, MRP, OutletID, EstablishmentYear, OutletSize, LocationType, OutletType, OutletSales]\n",
       "Index: []"
      ]
     },
     "execution_count": 22,
     "metadata": {},
     "output_type": "execute_result"
    }
   ],
   "source": [
    "df[df[\"OutletSales\"]<lower_limit] #No data lower limit as the lower_limit value is in negative"
   ]
  },
  {
   "cell_type": "code",
   "execution_count": 23,
   "id": "920920f9",
   "metadata": {
    "execution": {
     "iopub.execute_input": "2024-11-18T04:00:28.108209Z",
     "iopub.status.busy": "2024-11-18T04:00:28.107810Z",
     "iopub.status.idle": "2024-11-18T04:00:28.112363Z",
     "shell.execute_reply": "2024-11-18T04:00:28.111328Z"
    },
    "papermill": {
     "duration": 0.017805,
     "end_time": "2024-11-18T04:00:28.114546",
     "exception": false,
     "start_time": "2024-11-18T04:00:28.096741",
     "status": "completed"
    },
    "tags": []
   },
   "outputs": [],
   "source": [
    "# as the dataset is less and sales data is meaningfull so we will use capping method"
   ]
  },
  {
   "cell_type": "code",
   "execution_count": null,
   "id": "4678f9f3",
   "metadata": {
    "papermill": {
     "duration": 0.009469,
     "end_time": "2024-11-18T04:00:28.134073",
     "exception": false,
     "start_time": "2024-11-18T04:00:28.124604",
     "status": "completed"
    },
    "tags": []
   },
   "outputs": [],
   "source": []
  }
 ],
 "metadata": {
  "kaggle": {
   "accelerator": "none",
   "dataSources": [
    {
     "datasetId": 1593544,
     "sourceId": 2621633,
     "sourceType": "datasetVersion"
    }
   ],
   "dockerImageVersionId": 30786,
   "isGpuEnabled": false,
   "isInternetEnabled": true,
   "language": "python",
   "sourceType": "notebook"
  },
  "kernelspec": {
   "display_name": "Python 3",
   "language": "python",
   "name": "python3"
  },
  "language_info": {
   "codemirror_mode": {
    "name": "ipython",
    "version": 3
   },
   "file_extension": ".py",
   "mimetype": "text/x-python",
   "name": "python",
   "nbconvert_exporter": "python",
   "pygments_lexer": "ipython3",
   "version": "3.10.14"
  },
  "papermill": {
   "default_parameters": {},
   "duration": 7.950786,
   "end_time": "2024-11-18T04:00:28.764941",
   "environment_variables": {},
   "exception": null,
   "input_path": "__notebook__.ipynb",
   "output_path": "__notebook__.ipynb",
   "parameters": {},
   "start_time": "2024-11-18T04:00:20.814155",
   "version": "2.6.0"
  }
 },
 "nbformat": 4,
 "nbformat_minor": 5
}
